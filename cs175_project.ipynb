{
 "cells": [
  {
   "cell_type": "code",
   "execution_count": 3,
   "metadata": {
    "colab": {},
    "colab_type": "code",
    "id": "zTOtL6oIn5tY"
   },
   "outputs": [],
   "source": [
    "from torch import nn\n",
    "from torch import optim\n",
    "\n",
    "from sklearn import model_selection\n",
    "\n",
    "import numpy as np\n",
    "import pandas as pd\n",
    "from pathlib import Path \n",
    "from imageio import imread\n",
    "\n",
    "from skimage.transform import resize\n",
    "import time"
   ]
  },
  {
   "cell_type": "code",
   "execution_count": 5,
   "metadata": {},
   "outputs": [],
   "source": [
    "def Process_raw_data():\n",
    "    t = time.time()\n",
    "    X = []\n",
    "    Y = []\n",
    "    train_folder = Path('./data/imgs/train')\n",
    "    for classname in train_folder.iterdir():\n",
    "        if classname.name != '.DS_Store':\n",
    "            for img in classname.iterdir():\n",
    "                X.append(imread(img))\n",
    "                Y.append(int(classname.name[1:]))\n",
    "    X = np.array(X).reshape(22424,3,480,640)\n",
    "    Y = np.array(Y)\n",
    "    print(time.time()-t)\n",
    "    return X, Y\n",
    "\n",
    "def Store_processed_data():\n",
    "    pass"
   ]
  },
  {
   "cell_type": "code",
   "execution_count": null,
   "metadata": {},
   "outputs": [],
   "source": [
    "X, Y = Process_raw_data()"
   ]
  },
  {
   "cell_type": "code",
   "execution_count": null,
   "metadata": {},
   "outputs": [],
   "source": [
    "import sys\n",
    "sys.getsizeof(X)"
   ]
  },
  {
   "cell_type": "code",
   "execution_count": null,
   "metadata": {},
   "outputs": [],
   "source": [
    "pickle.dump(Xtr,open('Xtraing.pkl','w'))"
   ]
  },
  {
   "cell_type": "code",
   "execution_count": null,
   "metadata": {},
   "outputs": [],
   "source": [
    "import sys\n",
    "sys.getsizeof(Xtr)"
   ]
  },
  {
   "cell_type": "code",
   "execution_count": null,
   "metadata": {},
   "outputs": [],
   "source": [
    "\n",
    "\n",
    "Xtr, Xte, Ytr, Yte = model_selection.train_test_split(X, Y, test_size=0.25, random_state=20)\n",
    "print('Xtr',Xtr.shape)\n",
    "print('Ytr',Ytr.shape)\n",
    "print('Xte',Xte.shape)\n",
    "print('Yte',Yte.shape)"
   ]
  },
  {
   "cell_type": "code",
   "execution_count": null,
   "metadata": {},
   "outputs": [],
   "source": [
    "print('Xtr',Xtr.shape)\n",
    "print('Ytr',Ytr.shape)\n",
    "print('Xte',Xte.shape)\n",
    "print('Yte',Yte.shape)"
   ]
  },
  {
   "cell_type": "code",
   "execution_count": null,
   "metadata": {},
   "outputs": [],
   "source": [
    "X.shape"
   ]
  },
  {
   "cell_type": "code",
   "execution_count": null,
   "metadata": {},
   "outputs": [],
   "source": []
  }
 ],
 "metadata": {
  "accelerator": "GPU",
  "colab": {
   "name": "cs175_project",
   "provenance": []
  },
  "kernelspec": {
   "display_name": "Python 3",
   "language": "python",
   "name": "python3"
  }
 },
 "nbformat": 4,
 "nbformat_minor": 1
}
