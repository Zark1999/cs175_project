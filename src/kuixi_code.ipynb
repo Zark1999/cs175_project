{
  "nbformat": 4,
  "nbformat_minor": 0,
  "metadata": {
    "colab": {
      "name": "Copy of cs175_project.ipynb",
      "provenance": [],
      "collapsed_sections": [],
      "toc_visible": true
    },
    "kernelspec": {
      "display_name": "Python 3",
      "language": "python",
      "name": "python3"
    },
    "language_info": {
      "codemirror_mode": {
        "name": "ipython",
        "version": 3
      },
      "file_extension": ".py",
      "mimetype": "text/x-python",
      "name": "python",
      "nbconvert_exporter": "python",
      "pygments_lexer": "ipython3",
      "version": "3.7.3"
    },
    "accelerator": "GPU"
  },
  "cells": [
    {
      "cell_type": "markdown",
      "metadata": {
        "id": "V1B4Ae0f5-Sq",
        "colab_type": "text"
      },
      "source": [
        "references:\n",
        "1. Pytorch documentation / tutorials https://pytorch.org/tutorials/beginner/transfer_learning_tutorial.html\n",
        "2. https://www.youtube.com/watch?v=5rW_PZI4B2I\n",
        "3. https://towardsdatascience.com/a-beginners-tutorial-on-building-an-ai-image-classifier-using-pytorch-6f85cb69cba7"
      ]
    },
    {
      "cell_type": "code",
      "metadata": {
        "id": "70BPrnHAdjkx",
        "colab_type": "code",
        "colab": {}
      },
      "source": [
        "# import tarfile\n",
        "# import tarfile\n",
        "# my_tar = tarfile.open('/content/drive/My Drive/cs175_data/test.tar.gz')\n",
        "# my_tar.extractall('/content/drive/My Drive/cs175_data/') # specify which folder to extract to\n",
        "# my_tar.close()"
      ],
      "execution_count": 0,
      "outputs": []
    },
    {
      "cell_type": "code",
      "metadata": {
        "colab_type": "code",
        "id": "zTOtL6oIn5tY",
        "colab": {}
      },
      "source": [
        "import torch\n",
        "import torch.nn as nn\n",
        "import torch.optim as optim\n",
        "import torchvision\n",
        "from torch.autograd import Variable\n",
        "from torch.utils import data\n",
        "from torch.utils.data import DataLoader\n",
        "from torch.utils.data import sampler\n",
        "from torchvision import transforms,datasets\n",
        "\n",
        "import matplotlib.pyplot as plt\n",
        "from sklearn import model_selection\n",
        "import numpy as np\n",
        "import pandas as pd\n",
        "from pathlib import Path \n",
        "from imageio import imread\n",
        "import timeit\n",
        "import time\n",
        "import shutil\n",
        "class_dict = {\"c0\":\"safe driving\",\"c1\":\"texting - right\",\"c2\":\"talking on the phone - right\",\n",
        "              \"c3\":\"texting - left\",\"c4\":\"talking on the phone - left\",\"c5\":\"operating the radio\",\n",
        "              \"c6\":\"drinking\", \"c7\":\"reaching behind\",\"c8\":\"hair and makeup\",\"c9\":\"talking to passenger\"}\n",
        "        \n",
        "\n",
        "data_transforms = {\n",
        "    'train': transforms.Compose([\n",
        "                                 transforms.RandomResizedCrop(224),\n",
        "                                 transforms.RandomHorizontalFlip(),\n",
        "                                 transforms.ToTensor(),\n",
        "                                 transforms.Normalize([0.485, 0.456, 0.406], [0.229, 0.224, 0.225])\n",
        "    ]),\n",
        "    'validation': transforms.Compose([\n",
        "                                      transforms.Resize(256),\n",
        "                                      transforms.CenterCrop(224),\n",
        "                                      transforms.ToTensor(),\n",
        "                                      transforms.Normalize([0.485, 0.456, 0.406], [0.229, 0.224, 0.225])\n",
        "    ]),\n",
        "    'test': transforms.Compose([\n",
        "                                      transforms.Resize(256),\n",
        "                                      transforms.CenterCrop(224),\n",
        "                                      transforms.ToTensor(),\n",
        "                                      transforms.Normalize([0.485, 0.456, 0.406], [0.229, 0.224, 0.225])\n",
        "    ]),\n",
        "}\n",
        "torch.cuda.random.manual_seed(12345)\n",
        "gpu_dtype = torch.cuda.FloatTensor\n",
        "\n",
        "print_every = 100\n",
        "np.random.seed(2020)\n",
        "\n",
        "def train(model, loss_fn, optimizer, num_epochs = 1):\n",
        "    for epoch in range(num_epochs):\n",
        "        print('Starting epoch %d / %d' % (epoch + 1, num_epochs))\n",
        "        model.train()\n",
        "        for t, (x, y) in enumerate(train_loader):\n",
        "            x_var = Variable(x.type(gpu_dtype))\n",
        "            y_var = Variable(y.type(gpu_dtype).long())\n",
        "\n",
        "            scores = model(x_var)\n",
        "            \n",
        "            loss = loss_fn(scores, y_var)\n",
        "            if (t + 1) % print_every == 0:\n",
        "                print('t = %d, loss = %.4f' % (t + 1, loss.data))\n",
        "\n",
        "            optimizer.zero_grad()\n",
        "            loss.backward()\n",
        "            optimizer.step()\n",
        "            \n",
        "def check_accuracy(model):\n",
        "    print('Checking accuracy on validation set')  \n",
        "    num_correct = 0\n",
        "    num_samples = 0\n",
        "    model.eval()\n",
        "    for x, y in val_loader:\n",
        "        x_var = Variable(x.type(gpu_dtype), volatile=True)\n",
        "\n",
        "        scores = model(x_var)\n",
        "        _, preds = scores.data.cpu().max(1)\n",
        "        num_correct += (preds == y).sum()\n",
        "        num_samples += preds.size(0)\n",
        "    acc = float(num_correct) / num_samples\n",
        "    print('Got %d / %d correct (%.2f)' % (num_correct, num_samples, 100 * acc))"
      ],
      "execution_count": 0,
      "outputs": []
    },
    {
      "cell_type": "code",
      "metadata": {
        "id": "LJ3H7UoTz3hZ",
        "colab_type": "code",
        "outputId": "a1d178bb-4656-4605-8cb2-8a80177ed420",
        "colab": {
          "base_uri": "https://localhost:8080/",
          "height": 407
        }
      },
      "source": [
        "#test_dataset = datasets.ImageFolder(\"/content/drive/My Drive/cs175_data/test\", transform = data_transforms['test'])\n",
        "train_dataset = datasets.ImageFolder(\"/content/drive/My Drive/cs175_data/train\", transform = data_transforms['train'])\n",
        "validation_dataset = datasets.ImageFolder(\"/content/drive/My Drive/cs175_data/validation\", transform = data_transforms['validation'])\n",
        "\n",
        "\n",
        "train_loader = torch.utils.data.DataLoader(train_dataset, batch_size=32, shuffle=True, drop_last=True)\n",
        "val_loader = torch.utils.data.DataLoader(validation_dataset, batch_size =32, shuffle=True, drop_last=True)\n",
        "#test_loader = torch.utils.data.DataLoader(test_dataset, batch_size =32, shuffle=True)"
      ],
      "execution_count": 0,
      "outputs": [
        {
          "output_type": "error",
          "ename": "RuntimeError",
          "evalue": "ignored",
          "traceback": [
            "\u001b[0;31m---------------------------------------------------------------------------\u001b[0m",
            "\u001b[0;31mRuntimeError\u001b[0m                              Traceback (most recent call last)",
            "\u001b[0;32m<ipython-input-4-144dd9c8fbff>\u001b[0m in \u001b[0;36m<module>\u001b[0;34m()\u001b[0m\n\u001b[0;32m----> 1\u001b[0;31m \u001b[0mtest_dataset\u001b[0m \u001b[0;34m=\u001b[0m \u001b[0mdatasets\u001b[0m\u001b[0;34m.\u001b[0m\u001b[0mImageFolder\u001b[0m\u001b[0;34m(\u001b[0m\u001b[0;34m\"/content/drive/My Drive/cs175_data/test\"\u001b[0m\u001b[0;34m,\u001b[0m \u001b[0mtransform\u001b[0m \u001b[0;34m=\u001b[0m \u001b[0mdata_transforms\u001b[0m\u001b[0;34m[\u001b[0m\u001b[0;34m'test'\u001b[0m\u001b[0;34m]\u001b[0m\u001b[0;34m)\u001b[0m\u001b[0;34m\u001b[0m\u001b[0;34m\u001b[0m\u001b[0m\n\u001b[0m\u001b[1;32m      2\u001b[0m \u001b[0mtrain_dataset\u001b[0m \u001b[0;34m=\u001b[0m \u001b[0mdatasets\u001b[0m\u001b[0;34m.\u001b[0m\u001b[0mImageFolder\u001b[0m\u001b[0;34m(\u001b[0m\u001b[0;34m\"/content/drive/My Drive/cs175_data/train\"\u001b[0m\u001b[0;34m,\u001b[0m \u001b[0mtransform\u001b[0m \u001b[0;34m=\u001b[0m \u001b[0mdata_transforms\u001b[0m\u001b[0;34m[\u001b[0m\u001b[0;34m'train'\u001b[0m\u001b[0;34m]\u001b[0m\u001b[0;34m)\u001b[0m\u001b[0;34m\u001b[0m\u001b[0;34m\u001b[0m\u001b[0m\n\u001b[1;32m      3\u001b[0m \u001b[0mvalidation_dataset\u001b[0m \u001b[0;34m=\u001b[0m \u001b[0mdatasets\u001b[0m\u001b[0;34m.\u001b[0m\u001b[0mImageFolder\u001b[0m\u001b[0;34m(\u001b[0m\u001b[0;34m\"/content/drive/My Drive/cs175_data/validation\"\u001b[0m\u001b[0;34m,\u001b[0m \u001b[0mtransform\u001b[0m \u001b[0;34m=\u001b[0m \u001b[0mdata_transforms\u001b[0m\u001b[0;34m[\u001b[0m\u001b[0;34m'validation'\u001b[0m\u001b[0;34m]\u001b[0m\u001b[0;34m)\u001b[0m\u001b[0;34m\u001b[0m\u001b[0;34m\u001b[0m\u001b[0m\n\u001b[1;32m      4\u001b[0m \u001b[0;34m\u001b[0m\u001b[0m\n\u001b[1;32m      5\u001b[0m \u001b[0;34m\u001b[0m\u001b[0m\n",
            "\u001b[0;32m/usr/local/lib/python3.6/dist-packages/torchvision/datasets/folder.py\u001b[0m in \u001b[0;36m__init__\u001b[0;34m(self, root, transform, target_transform, loader, is_valid_file)\u001b[0m\n\u001b[1;32m    204\u001b[0m                                           \u001b[0mtransform\u001b[0m\u001b[0;34m=\u001b[0m\u001b[0mtransform\u001b[0m\u001b[0;34m,\u001b[0m\u001b[0;34m\u001b[0m\u001b[0;34m\u001b[0m\u001b[0m\n\u001b[1;32m    205\u001b[0m                                           \u001b[0mtarget_transform\u001b[0m\u001b[0;34m=\u001b[0m\u001b[0mtarget_transform\u001b[0m\u001b[0;34m,\u001b[0m\u001b[0;34m\u001b[0m\u001b[0;34m\u001b[0m\u001b[0m\n\u001b[0;32m--> 206\u001b[0;31m                                           is_valid_file=is_valid_file)\n\u001b[0m\u001b[1;32m    207\u001b[0m         \u001b[0mself\u001b[0m\u001b[0;34m.\u001b[0m\u001b[0mimgs\u001b[0m \u001b[0;34m=\u001b[0m \u001b[0mself\u001b[0m\u001b[0;34m.\u001b[0m\u001b[0msamples\u001b[0m\u001b[0;34m\u001b[0m\u001b[0;34m\u001b[0m\u001b[0m\n",
            "\u001b[0;32m/usr/local/lib/python3.6/dist-packages/torchvision/datasets/folder.py\u001b[0m in \u001b[0;36m__init__\u001b[0;34m(self, root, loader, extensions, transform, target_transform, is_valid_file)\u001b[0m\n\u001b[1;32m     96\u001b[0m         \u001b[0;32mif\u001b[0m \u001b[0mlen\u001b[0m\u001b[0;34m(\u001b[0m\u001b[0msamples\u001b[0m\u001b[0;34m)\u001b[0m \u001b[0;34m==\u001b[0m \u001b[0;36m0\u001b[0m\u001b[0;34m:\u001b[0m\u001b[0;34m\u001b[0m\u001b[0;34m\u001b[0m\u001b[0m\n\u001b[1;32m     97\u001b[0m             raise (RuntimeError(\"Found 0 files in subfolders of: \" + self.root + \"\\n\"\n\u001b[0;32m---> 98\u001b[0;31m                                 \"Supported extensions are: \" + \",\".join(extensions)))\n\u001b[0m\u001b[1;32m     99\u001b[0m \u001b[0;34m\u001b[0m\u001b[0m\n\u001b[1;32m    100\u001b[0m         \u001b[0mself\u001b[0m\u001b[0;34m.\u001b[0m\u001b[0mloader\u001b[0m \u001b[0;34m=\u001b[0m \u001b[0mloader\u001b[0m\u001b[0;34m\u001b[0m\u001b[0;34m\u001b[0m\u001b[0m\n",
            "\u001b[0;31mRuntimeError\u001b[0m: Found 0 files in subfolders of: /content/drive/My Drive/cs175_data/test\nSupported extensions are: .jpg,.jpeg,.png,.ppm,.bmp,.pgm,.tif,.tiff,.webp"
          ]
        }
      ]
    },
    {
      "cell_type": "code",
      "metadata": {
        "id": "tj1qNzQqAF5J",
        "colab_type": "code",
        "outputId": "8655103b-a655-472e-8349-06bb6c040608",
        "colab": {
          "base_uri": "https://localhost:8080/",
          "height": 121
        }
      },
      "source": [
        "from google.colab import drive\n",
        "drive.mount('/content/drive')"
      ],
      "execution_count": 0,
      "outputs": [
        {
          "output_type": "stream",
          "text": [
            "Go to this URL in a browser: https://accounts.google.com/o/oauth2/auth?client_id=947318989803-6bn6qk8qdgf4n4g3pfee6491hc0brc4i.apps.googleusercontent.com&redirect_uri=urn%3aietf%3awg%3aoauth%3a2.0%3aoob&response_type=code&scope=email%20https%3a%2f%2fwww.googleapis.com%2fauth%2fdocs.test%20https%3a%2f%2fwww.googleapis.com%2fauth%2fdrive%20https%3a%2f%2fwww.googleapis.com%2fauth%2fdrive.photos.readonly%20https%3a%2f%2fwww.googleapis.com%2fauth%2fpeopleapi.readonly\n",
            "\n",
            "Enter your authorization code:\n",
            "··········\n",
            "Mounted at /content/drive\n"
          ],
          "name": "stdout"
        }
      ]
    },
    {
      "cell_type": "code",
      "metadata": {
        "id": "4Zt7E4QLuNX3",
        "colab_type": "code",
        "outputId": "9180fe49-5d8e-4e68-c39c-0655c082fefd",
        "colab": {
          "base_uri": "https://localhost:8080/",
          "height": 370
        }
      },
      "source": [
        "import os\n",
        "\n",
        "t = Path('/content/drive/My Drive/cs175_data/test/test')\n",
        "\n",
        "for i in t.iterdir():\n",
        "  if i.name.startswith('._'):\n",
        "    print(i)\n",
        "    os.remove(i)\n",
        "print('done')"
      ],
      "execution_count": 0,
      "outputs": [
        {
          "output_type": "error",
          "ename": "OSError",
          "evalue": "ignored",
          "traceback": [
            "\u001b[0;31m---------------------------------------------------------------------------\u001b[0m",
            "\u001b[0;31mOSError\u001b[0m                                   Traceback (most recent call last)",
            "\u001b[0;32m<ipython-input-3-1c2d4d1a7915>\u001b[0m in \u001b[0;36m<module>\u001b[0;34m()\u001b[0m\n\u001b[1;32m      3\u001b[0m \u001b[0mt\u001b[0m \u001b[0;34m=\u001b[0m \u001b[0mPath\u001b[0m\u001b[0;34m(\u001b[0m\u001b[0;34m'/content/drive/My Drive/cs175_data/test/test'\u001b[0m\u001b[0;34m)\u001b[0m\u001b[0;34m\u001b[0m\u001b[0;34m\u001b[0m\u001b[0m\n\u001b[1;32m      4\u001b[0m \u001b[0;34m\u001b[0m\u001b[0m\n\u001b[0;32m----> 5\u001b[0;31m \u001b[0;32mfor\u001b[0m \u001b[0mi\u001b[0m \u001b[0;32min\u001b[0m \u001b[0mt\u001b[0m\u001b[0;34m.\u001b[0m\u001b[0miterdir\u001b[0m\u001b[0;34m(\u001b[0m\u001b[0;34m)\u001b[0m\u001b[0;34m:\u001b[0m\u001b[0;34m\u001b[0m\u001b[0;34m\u001b[0m\u001b[0m\n\u001b[0m\u001b[1;32m      6\u001b[0m   \u001b[0;32mif\u001b[0m \u001b[0mi\u001b[0m\u001b[0;34m.\u001b[0m\u001b[0mname\u001b[0m\u001b[0;34m.\u001b[0m\u001b[0mstartswith\u001b[0m\u001b[0;34m(\u001b[0m\u001b[0;34m'._'\u001b[0m\u001b[0;34m)\u001b[0m\u001b[0;34m:\u001b[0m\u001b[0;34m\u001b[0m\u001b[0;34m\u001b[0m\u001b[0m\n\u001b[1;32m      7\u001b[0m     \u001b[0mprint\u001b[0m\u001b[0;34m(\u001b[0m\u001b[0mi\u001b[0m\u001b[0;34m)\u001b[0m\u001b[0;34m\u001b[0m\u001b[0;34m\u001b[0m\u001b[0m\n",
            "\u001b[0;32m/usr/lib/python3.6/pathlib.py\u001b[0m in \u001b[0;36miterdir\u001b[0;34m(self)\u001b[0m\n\u001b[1;32m   1079\u001b[0m         \u001b[0;32mif\u001b[0m \u001b[0mself\u001b[0m\u001b[0;34m.\u001b[0m\u001b[0m_closed\u001b[0m\u001b[0;34m:\u001b[0m\u001b[0;34m\u001b[0m\u001b[0;34m\u001b[0m\u001b[0m\n\u001b[1;32m   1080\u001b[0m             \u001b[0mself\u001b[0m\u001b[0;34m.\u001b[0m\u001b[0m_raise_closed\u001b[0m\u001b[0;34m(\u001b[0m\u001b[0;34m)\u001b[0m\u001b[0;34m\u001b[0m\u001b[0;34m\u001b[0m\u001b[0m\n\u001b[0;32m-> 1081\u001b[0;31m         \u001b[0;32mfor\u001b[0m \u001b[0mname\u001b[0m \u001b[0;32min\u001b[0m \u001b[0mself\u001b[0m\u001b[0;34m.\u001b[0m\u001b[0m_accessor\u001b[0m\u001b[0;34m.\u001b[0m\u001b[0mlistdir\u001b[0m\u001b[0;34m(\u001b[0m\u001b[0mself\u001b[0m\u001b[0;34m)\u001b[0m\u001b[0;34m:\u001b[0m\u001b[0;34m\u001b[0m\u001b[0;34m\u001b[0m\u001b[0m\n\u001b[0m\u001b[1;32m   1082\u001b[0m             \u001b[0;32mif\u001b[0m \u001b[0mname\u001b[0m \u001b[0;32min\u001b[0m \u001b[0;34m{\u001b[0m\u001b[0;34m'.'\u001b[0m\u001b[0;34m,\u001b[0m \u001b[0;34m'..'\u001b[0m\u001b[0;34m}\u001b[0m\u001b[0;34m:\u001b[0m\u001b[0;34m\u001b[0m\u001b[0;34m\u001b[0m\u001b[0m\n\u001b[1;32m   1083\u001b[0m                 \u001b[0;31m# Yielding a path object for these makes little sense\u001b[0m\u001b[0;34m\u001b[0m\u001b[0;34m\u001b[0m\u001b[0;34m\u001b[0m\u001b[0m\n",
            "\u001b[0;32m/usr/lib/python3.6/pathlib.py\u001b[0m in \u001b[0;36mwrapped\u001b[0;34m(pathobj, *args)\u001b[0m\n\u001b[1;32m    385\u001b[0m         \u001b[0;34m@\u001b[0m\u001b[0mfunctools\u001b[0m\u001b[0;34m.\u001b[0m\u001b[0mwraps\u001b[0m\u001b[0;34m(\u001b[0m\u001b[0mstrfunc\u001b[0m\u001b[0;34m)\u001b[0m\u001b[0;34m\u001b[0m\u001b[0;34m\u001b[0m\u001b[0m\n\u001b[1;32m    386\u001b[0m         \u001b[0;32mdef\u001b[0m \u001b[0mwrapped\u001b[0m\u001b[0;34m(\u001b[0m\u001b[0mpathobj\u001b[0m\u001b[0;34m,\u001b[0m \u001b[0;34m*\u001b[0m\u001b[0margs\u001b[0m\u001b[0;34m)\u001b[0m\u001b[0;34m:\u001b[0m\u001b[0;34m\u001b[0m\u001b[0;34m\u001b[0m\u001b[0m\n\u001b[0;32m--> 387\u001b[0;31m             \u001b[0;32mreturn\u001b[0m \u001b[0mstrfunc\u001b[0m\u001b[0;34m(\u001b[0m\u001b[0mstr\u001b[0m\u001b[0;34m(\u001b[0m\u001b[0mpathobj\u001b[0m\u001b[0;34m)\u001b[0m\u001b[0;34m,\u001b[0m \u001b[0;34m*\u001b[0m\u001b[0margs\u001b[0m\u001b[0;34m)\u001b[0m\u001b[0;34m\u001b[0m\u001b[0;34m\u001b[0m\u001b[0m\n\u001b[0m\u001b[1;32m    388\u001b[0m         \u001b[0;32mreturn\u001b[0m \u001b[0mstaticmethod\u001b[0m\u001b[0;34m(\u001b[0m\u001b[0mwrapped\u001b[0m\u001b[0;34m)\u001b[0m\u001b[0;34m\u001b[0m\u001b[0;34m\u001b[0m\u001b[0m\n\u001b[1;32m    389\u001b[0m \u001b[0;34m\u001b[0m\u001b[0m\n",
            "\u001b[0;31mOSError\u001b[0m: [Errno 5] Input/output error: '/content/drive/My Drive/cs175_data/test/test'"
          ]
        }
      ]
    },
    {
      "cell_type": "code",
      "metadata": {
        "id": "KWWAgwCurhX-",
        "colab_type": "code",
        "outputId": "887e5a43-e540-438e-fd67-8a6ed7799221",
        "colab": {
          "base_uri": "https://localhost:8080/",
          "height": 337
        }
      },
      "source": [
        "def split_train_validation():\n",
        "  train_folder = Path('/content/drive/My Drive/cs175_data/train')\n",
        "  X = []\n",
        "  Y = []\n",
        "\n",
        "  for classname in train_folder.iterdir():\n",
        "    for img in classname.iterdir():\n",
        "      X.append(img)\n",
        "      Y.append(classname.name)\n",
        "\n",
        "  Xtr, Xva, Ytr, Yva = model_selection.train_test_split(X, Y, test_size=0.25, random_state=20)\n",
        "  for i in range(len(Xva)):\n",
        "    shutil.move(str(Xva[i]), '/content/drive/My Drive/cs175_data/validation/' + Yva[i])\n",
        "\n",
        "split_train_validation()"
      ],
      "execution_count": 0,
      "outputs": [
        {
          "output_type": "error",
          "ename": "KeyboardInterrupt",
          "evalue": "ignored",
          "traceback": [
            "\u001b[0;31m---------------------------------------------------------------------------\u001b[0m",
            "\u001b[0;31mKeyboardInterrupt\u001b[0m                         Traceback (most recent call last)",
            "\u001b[0;32m<ipython-input-3-3c2764b9f4f1>\u001b[0m in \u001b[0;36m<module>\u001b[0;34m()\u001b[0m\n\u001b[1;32m     13\u001b[0m     \u001b[0mshutil\u001b[0m\u001b[0;34m.\u001b[0m\u001b[0mmove\u001b[0m\u001b[0;34m(\u001b[0m\u001b[0mstr\u001b[0m\u001b[0;34m(\u001b[0m\u001b[0mXva\u001b[0m\u001b[0;34m[\u001b[0m\u001b[0mi\u001b[0m\u001b[0;34m]\u001b[0m\u001b[0;34m)\u001b[0m\u001b[0;34m,\u001b[0m \u001b[0;34m'/content/drive/My Drive/cs175_data/validation/'\u001b[0m \u001b[0;34m+\u001b[0m \u001b[0mYva\u001b[0m\u001b[0;34m[\u001b[0m\u001b[0mi\u001b[0m\u001b[0;34m]\u001b[0m\u001b[0;34m)\u001b[0m\u001b[0;34m\u001b[0m\u001b[0;34m\u001b[0m\u001b[0m\n\u001b[1;32m     14\u001b[0m \u001b[0;34m\u001b[0m\u001b[0m\n\u001b[0;32m---> 15\u001b[0;31m \u001b[0msplit_train_validation\u001b[0m\u001b[0;34m(\u001b[0m\u001b[0;34m)\u001b[0m\u001b[0;34m\u001b[0m\u001b[0;34m\u001b[0m\u001b[0m\n\u001b[0m",
            "\u001b[0;32m<ipython-input-3-3c2764b9f4f1>\u001b[0m in \u001b[0;36msplit_train_validation\u001b[0;34m()\u001b[0m\n\u001b[1;32m      5\u001b[0m \u001b[0;34m\u001b[0m\u001b[0m\n\u001b[1;32m      6\u001b[0m   \u001b[0;32mfor\u001b[0m \u001b[0mclassname\u001b[0m \u001b[0;32min\u001b[0m \u001b[0mtrain_folder\u001b[0m\u001b[0;34m.\u001b[0m\u001b[0miterdir\u001b[0m\u001b[0;34m(\u001b[0m\u001b[0;34m)\u001b[0m\u001b[0;34m:\u001b[0m\u001b[0;34m\u001b[0m\u001b[0;34m\u001b[0m\u001b[0m\n\u001b[0;32m----> 7\u001b[0;31m     \u001b[0;32mfor\u001b[0m \u001b[0mimg\u001b[0m \u001b[0;32min\u001b[0m \u001b[0mclassname\u001b[0m\u001b[0;34m.\u001b[0m\u001b[0miterdir\u001b[0m\u001b[0;34m(\u001b[0m\u001b[0;34m)\u001b[0m\u001b[0;34m:\u001b[0m\u001b[0;34m\u001b[0m\u001b[0;34m\u001b[0m\u001b[0m\n\u001b[0m\u001b[1;32m      8\u001b[0m       \u001b[0mX\u001b[0m\u001b[0;34m.\u001b[0m\u001b[0mappend\u001b[0m\u001b[0;34m(\u001b[0m\u001b[0mimg\u001b[0m\u001b[0;34m)\u001b[0m\u001b[0;34m\u001b[0m\u001b[0;34m\u001b[0m\u001b[0m\n\u001b[1;32m      9\u001b[0m       \u001b[0mY\u001b[0m\u001b[0;34m.\u001b[0m\u001b[0mappend\u001b[0m\u001b[0;34m(\u001b[0m\u001b[0mclassname\u001b[0m\u001b[0;34m.\u001b[0m\u001b[0mname\u001b[0m\u001b[0;34m)\u001b[0m\u001b[0;34m\u001b[0m\u001b[0;34m\u001b[0m\u001b[0m\n",
            "\u001b[0;32m/usr/lib/python3.6/pathlib.py\u001b[0m in \u001b[0;36miterdir\u001b[0;34m(self)\u001b[0m\n\u001b[1;32m   1079\u001b[0m         \u001b[0;32mif\u001b[0m \u001b[0mself\u001b[0m\u001b[0;34m.\u001b[0m\u001b[0m_closed\u001b[0m\u001b[0;34m:\u001b[0m\u001b[0;34m\u001b[0m\u001b[0;34m\u001b[0m\u001b[0m\n\u001b[1;32m   1080\u001b[0m             \u001b[0mself\u001b[0m\u001b[0;34m.\u001b[0m\u001b[0m_raise_closed\u001b[0m\u001b[0;34m(\u001b[0m\u001b[0;34m)\u001b[0m\u001b[0;34m\u001b[0m\u001b[0;34m\u001b[0m\u001b[0m\n\u001b[0;32m-> 1081\u001b[0;31m         \u001b[0;32mfor\u001b[0m \u001b[0mname\u001b[0m \u001b[0;32min\u001b[0m \u001b[0mself\u001b[0m\u001b[0;34m.\u001b[0m\u001b[0m_accessor\u001b[0m\u001b[0;34m.\u001b[0m\u001b[0mlistdir\u001b[0m\u001b[0;34m(\u001b[0m\u001b[0mself\u001b[0m\u001b[0;34m)\u001b[0m\u001b[0;34m:\u001b[0m\u001b[0;34m\u001b[0m\u001b[0;34m\u001b[0m\u001b[0m\n\u001b[0m\u001b[1;32m   1082\u001b[0m             \u001b[0;32mif\u001b[0m \u001b[0mname\u001b[0m \u001b[0;32min\u001b[0m \u001b[0;34m{\u001b[0m\u001b[0;34m'.'\u001b[0m\u001b[0;34m,\u001b[0m \u001b[0;34m'..'\u001b[0m\u001b[0;34m}\u001b[0m\u001b[0;34m:\u001b[0m\u001b[0;34m\u001b[0m\u001b[0;34m\u001b[0m\u001b[0m\n\u001b[1;32m   1083\u001b[0m                 \u001b[0;31m# Yielding a path object for these makes little sense\u001b[0m\u001b[0;34m\u001b[0m\u001b[0;34m\u001b[0m\u001b[0;34m\u001b[0m\u001b[0m\n",
            "\u001b[0;32m/usr/lib/python3.6/pathlib.py\u001b[0m in \u001b[0;36mwrapped\u001b[0;34m(pathobj, *args)\u001b[0m\n\u001b[1;32m    385\u001b[0m         \u001b[0;34m@\u001b[0m\u001b[0mfunctools\u001b[0m\u001b[0;34m.\u001b[0m\u001b[0mwraps\u001b[0m\u001b[0;34m(\u001b[0m\u001b[0mstrfunc\u001b[0m\u001b[0;34m)\u001b[0m\u001b[0;34m\u001b[0m\u001b[0;34m\u001b[0m\u001b[0m\n\u001b[1;32m    386\u001b[0m         \u001b[0;32mdef\u001b[0m \u001b[0mwrapped\u001b[0m\u001b[0;34m(\u001b[0m\u001b[0mpathobj\u001b[0m\u001b[0;34m,\u001b[0m \u001b[0;34m*\u001b[0m\u001b[0margs\u001b[0m\u001b[0;34m)\u001b[0m\u001b[0;34m:\u001b[0m\u001b[0;34m\u001b[0m\u001b[0;34m\u001b[0m\u001b[0m\n\u001b[0;32m--> 387\u001b[0;31m             \u001b[0;32mreturn\u001b[0m \u001b[0mstrfunc\u001b[0m\u001b[0;34m(\u001b[0m\u001b[0mstr\u001b[0m\u001b[0;34m(\u001b[0m\u001b[0mpathobj\u001b[0m\u001b[0;34m)\u001b[0m\u001b[0;34m,\u001b[0m \u001b[0;34m*\u001b[0m\u001b[0margs\u001b[0m\u001b[0;34m)\u001b[0m\u001b[0;34m\u001b[0m\u001b[0;34m\u001b[0m\u001b[0m\n\u001b[0m\u001b[1;32m    388\u001b[0m         \u001b[0;32mreturn\u001b[0m \u001b[0mstaticmethod\u001b[0m\u001b[0;34m(\u001b[0m\u001b[0mwrapped\u001b[0m\u001b[0;34m)\u001b[0m\u001b[0;34m\u001b[0m\u001b[0;34m\u001b[0m\u001b[0m\n\u001b[1;32m    389\u001b[0m \u001b[0;34m\u001b[0m\u001b[0m\n",
            "\u001b[0;31mKeyboardInterrupt\u001b[0m: "
          ]
        }
      ]
    },
    {
      "cell_type": "code",
      "metadata": {
        "id": "gn8-mptDW0IJ",
        "colab_type": "code",
        "colab": {}
      },
      "source": [
        "class_dict = {\"c0\":\"safe driving\",\"c1\":\"texting - right\",\"c2\":\"talking on the phone - right\",\n",
        "              \"c3\":\"texting - left\",\"c4\":\"talking on the phone - left\",\"c5\":\"operating the radio\",\n",
        "              \"c6\":\"drinking\", \"c7\":\"reaching behind\",\"c8\":\"hair and makeup\",\"c9\":\"talking to passenger\"}"
      ],
      "execution_count": 0,
      "outputs": []
    },
    {
      "cell_type": "code",
      "metadata": {
        "id": "PfPRIz7jyhp1",
        "colab_type": "code",
        "colab": {}
      },
      "source": [
        "data_transforms = {\n",
        "    'train': transforms.Compose([\n",
        "                                 transforms.RandomResizedCrop(224),\n",
        "                                 transforms.RandomHorizontalFlip(),\n",
        "                                 transforms.ToTensor(),\n",
        "                                 transforms.Normalize([0.485, 0.456, 0.406], [0.229, 0.224, 0.225])\n",
        "    ]),\n",
        "    'validation': transforms.Compose([\n",
        "                                      transforms.Resize(256),\n",
        "                                      transforms.CenterCrop(224),\n",
        "                                      transforms.ToTensor(),\n",
        "                                      transforms.Normalize([0.485, 0.456, 0.406], [0.229, 0.224, 0.225])\n",
        "    ]),\n",
        "    'test': transforms.Compose([\n",
        "                                      transforms.Resize(256),\n",
        "                                      transforms.CenterCrop(224),\n",
        "                                      transforms.ToTensor(),\n",
        "                                      transforms.Normalize([0.485, 0.456, 0.406], [0.229, 0.224, 0.225])\n",
        "    ]),\n",
        "}"
      ],
      "execution_count": 0,
      "outputs": []
    },
    {
      "cell_type": "code",
      "metadata": {
        "id": "uFQ4Egbs2-wq",
        "colab_type": "code",
        "colab": {}
      },
      "source": [
        "train_dataset = datasets.ImageFolder(\"/content/drive/My Drive/cs175_data/train\", transform = data_transforms['train'])\n",
        "validation_dataset = datasets.ImageFolder(\"/content/drive/My Drive/cs175_data/validation\", transform = data_transforms['validation'])\n",
        "test_dataset = datasets.ImageFolder(\"/content/drive/My Drive/cs175_data/test\", transform = data_transforms['test'])\n",
        "\n",
        "train_loader = torch.utils.data.DataLoader(train_dataset, batch_size=32, shuffle=True, drop_last=True)\n",
        "val_loader = torch.utils.data.DataLoader(validation_dataset, batch_size =32, shuffle=True, drop_last=True)\n",
        "test_loader = torch.utils.data.DataLoader(test_dataset, batch_size =32, shuffle=True)"
      ],
      "execution_count": 0,
      "outputs": []
    },
    {
      "cell_type": "code",
      "metadata": {
        "id": "J744d3LT6ZNP",
        "colab_type": "code",
        "outputId": "c79a2633-cf70-4fbb-fcff-3f136ae55243",
        "colab": {
          "base_uri": "https://localhost:8080/",
          "height": 219
        }
      },
      "source": [
        "def imshow(inp, title=None):\n",
        "    \"\"\"Imshow for Tensor.\"\"\"\n",
        "    inp = inp.numpy().transpose((1, 2, 0))\n",
        "    mean = np.array([0.485, 0.456, 0.406])\n",
        "    std = np.array([0.229, 0.224, 0.225])\n",
        "    inp = std * inp + mean\n",
        "    inp = np.clip(inp, 0, 1)\n",
        "    plt.imshow(inp)\n",
        "    if title is not None:\n",
        "        plt.title(title)\n",
        "    plt.pause(0.001)\n",
        "\n",
        "inputs, _ = next(iter(train_loader))\n",
        "out = torchvision.utils.make_grid(inputs, nrow=8)\n",
        "imshow(out)"
      ],
      "execution_count": 0,
      "outputs": [
        {
          "output_type": "display_data",
          "data": {
            "image/png": "[encoded data removed]",
            "text/plain": [
              "<Figure size 432x288 with 1 Axes>"
            ]
          },
          "metadata": {
            "tags": [],
            "needs_background": "light"
          }
        }
      ]
    },
    {
      "cell_type": "code",
      "metadata": {
        "id": "VNdMLcvUKWTW",
        "colab_type": "code",
        "colab": {}
      },
      "source": [
        "torch.cuda.random.manual_seed(12345)\n",
        "gpu_dtype = torch.cuda.FloatTensor\n",
        "\n",
        "model = nn.Sequential(\n",
        "    nn.Conv2d(3, 8, kernel_size=24, stride=2),\n",
        "    nn.ReLU(inplace=True),\n",
        "    nn.BatchNorm2d(8),\n",
        "    nn.Conv2d(8, 16, kernel_size=24, stride=2),\n",
        "    nn.ReLU(inplace=True),\n",
        "    nn.BatchNorm2d(16),\n",
        "    nn.MaxPool2d(2,stride=2),\n",
        "    nn.Flatten(),\n",
        "    nn.Linear(5776, 1376),\n",
        "    nn.ReLU(inplace=True),\n",
        "    nn.Linear(1376, 10)\n",
        ").type(gpu_dtype)"
      ],
      "execution_count": 0,
      "outputs": []
    },
    {
      "cell_type": "code",
      "metadata": {
        "id": "kfLGody9JCOR",
        "colab_type": "code",
        "colab": {}
      },
      "source": [
        "#to save params into a file\n",
        "# torch.save(model.state_dict(), \"/content/drive/My Drive/cs175_data/modelTest.pt\")"
      ],
      "execution_count": 0,
      "outputs": []
    },
    {
      "cell_type": "code",
      "metadata": {
        "id": "kWsUapQnJZt0",
        "colab_type": "code",
        "outputId": "ca8d1ce6-c1ca-4ba0-ea09-8e52c81bd233",
        "colab": {
          "base_uri": "https://localhost:8080/",
          "height": 34
        }
      },
      "source": [
        "#to load params from file\n",
        "\n",
        "# model2.load_state_dict(torch.load(\"/content/drive/My Drive/cs175_data/modelTest.pt\"))"
      ],
      "execution_count": 0,
      "outputs": [
        {
          "output_type": "execute_result",
          "data": {
            "text/plain": [
              "<All keys matched successfully>"
            ]
          },
          "metadata": {
            "tags": []
          },
          "execution_count": 17
        }
      ]
    },
    {
      "cell_type": "code",
      "metadata": {
        "id": "USINMXduKWTa",
        "colab_type": "code",
        "outputId": "fcd9b394-eaf6-408a-ee66-cbaa5541b8b5",
        "colab": {
          "base_uri": "https://localhost:8080/",
          "height": 34
        }
      },
      "source": [
        "x = torch.randn(64, 3, 224, 224)\n",
        "x_var = Variable(x.type(gpu_dtype))\n",
        "ans = model(x_var)\n",
        "\n",
        "np.array(ans.size())"
      ],
      "execution_count": 0,
      "outputs": [
        {
          "output_type": "execute_result",
          "data": {
            "text/plain": [
              "array([64, 10])"
            ]
          },
          "metadata": {
            "tags": []
          },
          "execution_count": 14
        }
      ]
    },
    {
      "cell_type": "code",
      "metadata": {
        "id": "SzxVy5UWKWTd",
        "colab_type": "code",
        "colab": {}
      },
      "source": [
        "print_every = 100\n",
        "np.random.seed(2020)\n",
        "\n",
        "def train(model, loss_fn, optimizer, num_epochs = 1):\n",
        "    for epoch in range(num_epochs):\n",
        "        print('Starting epoch %d / %d' % (epoch + 1, num_epochs))\n",
        "        model.train()\n",
        "        for t, (x, y) in enumerate(train_loader):\n",
        "            x_var = Variable(x.type(gpu_dtype))\n",
        "            y_var = Variable(y.type(gpu_dtype).long())\n",
        "\n",
        "            scores = model(x_var)\n",
        "            \n",
        "            loss = loss_fn(scores, y_var)\n",
        "            if (t + 1) % print_every == 0:\n",
        "                print('t = %d, loss = %.4f' % (t + 1, loss.data))\n",
        "\n",
        "            optimizer.zero_grad()\n",
        "            loss.backward()\n",
        "            optimizer.step()\n",
        "            \n",
        "def check_accuracy(model):\n",
        "    print('Checking accuracy on validation set')  \n",
        "    num_correct = 0\n",
        "    num_samples = 0\n",
        "    model.eval()\n",
        "    for x, y in val_loader:\n",
        "        x_var = Variable(x.type(gpu_dtype), volatile=True)\n",
        "\n",
        "        scores = model(x_var)\n",
        "        _, preds = scores.data.cpu().max(1)\n",
        "        num_correct += (preds == y).sum()\n",
        "        num_samples += preds.size(0)\n",
        "    acc = float(num_correct) / num_samples\n",
        "    print('Got %d / %d correct (%.2f)' % (num_correct, num_samples, 100 * acc))"
      ],
      "execution_count": 0,
      "outputs": []
    },
    {
      "cell_type": "markdown",
      "metadata": {
        "id": "1J9ZhfD8gqRe",
        "colab_type": "text"
      },
      "source": [
        "# model1 92.3%"
      ]
    },
    {
      "cell_type": "code",
      "metadata": {
        "id": "BfVJob1MJ2PT",
        "colab_type": "code",
        "outputId": "6d266cd1-534d-47ec-d383-51efbbbbd330",
        "colab": {
          "base_uri": "https://localhost:8080/",
          "height": 1000
        }
      },
      "source": [
        "model1 = nn.Sequential(\n",
        "    nn.Conv2d(3, 8, kernel_size=48, stride=1),\n",
        "    nn.ReLU(inplace=True),\n",
        "    nn.BatchNorm2d(8),\n",
        "    nn.Conv2d(8, 16, kernel_size=24, stride=2),\n",
        "    nn.ReLU(inplace=True),\n",
        "    nn.BatchNorm2d(16),\n",
        "    nn.MaxPool2d(2,stride=2),\n",
        "    nn.Flatten(),\n",
        "    nn.Linear(23104, 666),\n",
        "    nn.ReLU(inplace=True),\n",
        "    nn.Linear(666, 10)\n",
        ").type(gpu_dtype)\n",
        "\n",
        "t = time.time()\n",
        "loss_fn = nn.CrossEntropyLoss().type(gpu_dtype)\n",
        "optimizer = optim.Adadelta(model1.parameters(), lr=1e-1)\n",
        "train(model1, loss_fn, optimizer, num_epochs=20)\n",
        "print('time used:', time.time() - t)\n",
        "check_accuracy(model1)\n",
        "torch.save(model1.state_dict(), \"/content/drive/My Drive/cs175_data/model1.pt\")"
      ],
      "execution_count": 0,
      "outputs": [
        {
          "output_type": "stream",
          "text": [
            "Starting epoch 1 / 20\n",
            "t = 100, loss = 2.4594\n",
            "t = 200, loss = 2.4144\n",
            "t = 300, loss = 2.0003\n",
            "t = 400, loss = 2.2388\n",
            "t = 500, loss = 2.2578\n",
            "Starting epoch 2 / 20\n",
            "t = 100, loss = 2.1720\n",
            "t = 200, loss = 1.9391\n",
            "t = 300, loss = 2.2662\n",
            "t = 400, loss = 2.2677\n",
            "t = 500, loss = 2.1718\n",
            "Starting epoch 3 / 20\n",
            "t = 100, loss = 1.8376\n",
            "t = 200, loss = 1.9978\n",
            "t = 300, loss = 1.8643\n",
            "t = 400, loss = 1.8522\n",
            "t = 500, loss = 1.9331\n",
            "Starting epoch 4 / 20\n",
            "t = 100, loss = 1.7340\n",
            "t = 200, loss = 1.7259\n",
            "t = 300, loss = 1.4002\n",
            "t = 400, loss = 1.6395\n",
            "t = 500, loss = 1.6728\n",
            "Starting epoch 5 / 20\n",
            "t = 100, loss = 1.4802\n",
            "t = 200, loss = 1.5471\n",
            "t = 300, loss = 1.6828\n",
            "t = 400, loss = 1.5320\n",
            "t = 500, loss = 1.4311\n",
            "Starting epoch 6 / 20\n",
            "t = 100, loss = 1.3206\n",
            "t = 200, loss = 1.7816\n",
            "t = 300, loss = 1.6493\n",
            "t = 400, loss = 1.7482\n",
            "t = 500, loss = 1.7164\n",
            "Starting epoch 7 / 20\n",
            "t = 100, loss = 1.4754\n",
            "t = 200, loss = 1.1744\n",
            "t = 300, loss = 1.4282\n",
            "t = 400, loss = 1.7223\n",
            "t = 500, loss = 1.5278\n",
            "Starting epoch 8 / 20\n",
            "t = 100, loss = 1.8949\n",
            "t = 200, loss = 1.3068\n",
            "t = 300, loss = 1.5517\n",
            "t = 400, loss = 1.2152\n",
            "t = 500, loss = 1.6527\n",
            "Starting epoch 9 / 20\n",
            "t = 100, loss = 1.1529\n",
            "t = 200, loss = 1.1674\n",
            "t = 300, loss = 1.4799\n",
            "t = 400, loss = 1.2812\n",
            "t = 500, loss = 0.8923\n",
            "Starting epoch 10 / 20\n",
            "t = 100, loss = 1.2634\n",
            "t = 200, loss = 1.5250\n",
            "t = 300, loss = 1.7722\n",
            "t = 400, loss = 1.3764\n",
            "t = 500, loss = 1.7194\n",
            "Starting epoch 11 / 20\n",
            "t = 100, loss = 0.9192\n",
            "t = 200, loss = 1.4962\n",
            "t = 300, loss = 1.2792\n",
            "t = 400, loss = 1.5568\n",
            "t = 500, loss = 1.0479\n",
            "Starting epoch 12 / 20\n",
            "t = 100, loss = 1.0261\n",
            "t = 200, loss = 1.1711\n",
            "t = 300, loss = 1.1329\n",
            "t = 400, loss = 1.2597\n",
            "t = 500, loss = 1.1465\n",
            "Starting epoch 13 / 20\n",
            "t = 100, loss = 1.3434\n",
            "t = 200, loss = 1.4427\n",
            "t = 300, loss = 1.1279\n",
            "t = 400, loss = 1.0591\n",
            "t = 500, loss = 1.2822\n",
            "Starting epoch 14 / 20\n",
            "t = 100, loss = 1.0132\n",
            "t = 200, loss = 1.2673\n",
            "t = 300, loss = 1.4423\n",
            "t = 400, loss = 1.1147\n",
            "t = 500, loss = 1.4154\n",
            "Starting epoch 15 / 20\n",
            "t = 100, loss = 1.1096\n",
            "t = 200, loss = 1.6944\n",
            "t = 300, loss = 1.2749\n",
            "t = 400, loss = 1.1042\n",
            "t = 500, loss = 0.9038\n",
            "Starting epoch 16 / 20\n",
            "t = 100, loss = 1.3293\n",
            "t = 200, loss = 1.2101\n",
            "t = 300, loss = 1.3401\n",
            "t = 400, loss = 0.9638\n",
            "t = 500, loss = 1.0359\n",
            "Starting epoch 17 / 20\n",
            "t = 100, loss = 0.9391\n",
            "t = 200, loss = 1.5928\n",
            "t = 300, loss = 1.7778\n",
            "t = 400, loss = 1.2708\n",
            "t = 500, loss = 1.1869\n",
            "Starting epoch 18 / 20\n",
            "t = 100, loss = 1.1851\n",
            "t = 200, loss = 1.1520\n",
            "t = 300, loss = 1.1647\n",
            "t = 400, loss = 0.8701\n",
            "t = 500, loss = 0.8972\n",
            "Starting epoch 19 / 20\n",
            "t = 100, loss = 1.3099\n",
            "t = 200, loss = 1.0347\n",
            "t = 300, loss = 1.1642\n",
            "t = 400, loss = 0.8738\n",
            "t = 500, loss = 1.2076\n",
            "Starting epoch 20 / 20\n",
            "t = 100, loss = 1.1528\n",
            "t = 200, loss = 0.9185\n",
            "t = 300, loss = 1.1124\n",
            "t = 400, loss = 1.3030\n",
            "t = 500, loss = 1.0354\n",
            "time used: 17827.046826839447\n",
            "Checking accuracy on validation set\n"
          ],
          "name": "stdout"
        },
        {
          "output_type": "stream",
          "text": [
            "/usr/local/lib/python3.6/dist-packages/ipykernel_launcher.py:28: UserWarning: volatile was removed and now has no effect. Use `with torch.no_grad():` instead.\n"
          ],
          "name": "stderr"
        },
        {
          "output_type": "stream",
          "text": [
            "Got 5169 / 5600 correct (92.30)\n"
          ],
          "name": "stdout"
        }
      ]
    },
    {
      "cell_type": "markdown",
      "metadata": {
        "id": "UOuvPS3phECV",
        "colab_type": "text"
      },
      "source": [
        "# model2 94.3%"
      ]
    },
    {
      "cell_type": "code",
      "metadata": {
        "id": "R8k9OEMqhCSE",
        "colab_type": "code",
        "outputId": "7fbe60b9-7917-4ee6-b918-320f07c30754",
        "colab": {
          "base_uri": "https://localhost:8080/",
          "height": 1000
        }
      },
      "source": [
        "model2 = nn.Sequential(\n",
        "    nn.Conv2d(3, 9, kernel_size=24, stride=2),\n",
        "    nn.ReLU(inplace=True),\n",
        "    nn.BatchNorm2d(9),\n",
        "    nn.Conv2d(9, 18, kernel_size=24, stride=2),\n",
        "    nn.ReLU(inplace=True),\n",
        "    nn.BatchNorm2d(18),\n",
        "    nn.MaxPool2d(2,stride=2),\n",
        "    nn.Flatten(),\n",
        "    nn.Linear(6498, 1000),\n",
        "    nn.ReLU(inplace=True),\n",
        "    nn.Linear(1000, 10)\n",
        ").type(gpu_dtype)\n",
        "\n",
        "t = time.time()\n",
        "loss_fn = nn.CrossEntropyLoss().type(gpu_dtype)\n",
        "optimizer = optim.Adadelta(model2.parameters(), lr=1e-1)\n",
        "train(model2, loss_fn, optimizer, num_epochs=20)\n",
        "print('time used:', time.time() - t)\n",
        "check_accuracy(model2)\n",
        "torch.save(model2.state_dict(), \"/content/drive/My Drive/cs175_data/model2.pt\")"
      ],
      "execution_count": 0,
      "outputs": [
        {
          "output_type": "stream",
          "text": [
            "Starting epoch 1 / 20\n",
            "t = 100, loss = 2.3490\n",
            "t = 200, loss = 2.1826\n",
            "t = 300, loss = 1.9584\n",
            "t = 400, loss = 1.8393\n",
            "t = 500, loss = 1.9979\n",
            "Starting epoch 2 / 20\n",
            "t = 100, loss = 1.9994\n",
            "t = 200, loss = 2.1897\n",
            "t = 300, loss = 1.8274\n",
            "t = 400, loss = 1.9772\n",
            "t = 500, loss = 1.5513\n",
            "Starting epoch 3 / 20\n",
            "t = 100, loss = 1.5024\n",
            "t = 200, loss = 1.3955\n",
            "t = 300, loss = 1.5424\n",
            "t = 400, loss = 1.3536\n",
            "t = 500, loss = 1.6166\n",
            "Starting epoch 4 / 20\n",
            "t = 100, loss = 1.3896\n",
            "t = 200, loss = 1.5405\n",
            "t = 300, loss = 1.3267\n",
            "t = 400, loss = 1.2181\n",
            "t = 500, loss = 1.4839\n",
            "Starting epoch 5 / 20\n",
            "t = 100, loss = 1.4341\n",
            "t = 200, loss = 1.3122\n",
            "t = 300, loss = 1.4481\n",
            "t = 400, loss = 1.6169\n",
            "t = 500, loss = 1.1279\n",
            "Starting epoch 6 / 20\n",
            "t = 100, loss = 1.5729\n",
            "t = 200, loss = 1.3227\n",
            "t = 300, loss = 1.2049\n",
            "t = 400, loss = 1.1412\n",
            "t = 500, loss = 1.1925\n",
            "Starting epoch 7 / 20\n",
            "t = 100, loss = 1.4826\n",
            "t = 200, loss = 1.3597\n",
            "t = 300, loss = 1.2861\n",
            "t = 400, loss = 1.1031\n",
            "t = 500, loss = 0.9950\n",
            "Starting epoch 8 / 20\n",
            "t = 100, loss = 1.1865\n",
            "t = 200, loss = 0.8422\n",
            "t = 300, loss = 1.0962\n",
            "t = 400, loss = 1.3758\n",
            "t = 500, loss = 1.3775\n",
            "Starting epoch 9 / 20\n",
            "t = 100, loss = 0.7754\n",
            "t = 200, loss = 1.1456\n",
            "t = 300, loss = 1.3979\n",
            "t = 400, loss = 1.2634\n",
            "t = 500, loss = 1.1281\n",
            "Starting epoch 10 / 20\n",
            "t = 100, loss = 1.4657\n",
            "t = 200, loss = 1.4245\n",
            "t = 300, loss = 1.1977\n",
            "t = 400, loss = 1.4482\n",
            "t = 500, loss = 1.2079\n",
            "Starting epoch 11 / 20\n",
            "t = 100, loss = 0.8441\n",
            "t = 200, loss = 1.1703\n",
            "t = 300, loss = 0.7522\n",
            "t = 400, loss = 1.9379\n",
            "t = 500, loss = 1.2697\n",
            "Starting epoch 12 / 20\n",
            "t = 100, loss = 0.8869\n",
            "t = 200, loss = 1.3195\n",
            "t = 300, loss = 1.1348\n",
            "t = 400, loss = 1.1501\n",
            "t = 500, loss = 1.0313\n",
            "Starting epoch 13 / 20\n",
            "t = 100, loss = 0.8746\n",
            "t = 200, loss = 0.7011\n",
            "t = 300, loss = 0.8128\n",
            "t = 400, loss = 1.2591\n",
            "t = 500, loss = 1.4170\n",
            "Starting epoch 14 / 20\n",
            "t = 100, loss = 1.0170\n",
            "t = 200, loss = 1.2160\n",
            "t = 300, loss = 1.1742\n",
            "t = 400, loss = 0.9394\n",
            "t = 500, loss = 1.3213\n",
            "Starting epoch 15 / 20\n",
            "t = 100, loss = 1.2685\n",
            "t = 200, loss = 1.4001\n",
            "t = 300, loss = 0.8458\n",
            "t = 400, loss = 0.5064\n",
            "t = 500, loss = 1.3513\n",
            "Starting epoch 16 / 20\n",
            "t = 100, loss = 0.9853\n",
            "t = 200, loss = 0.9497\n",
            "t = 300, loss = 0.7489\n",
            "t = 400, loss = 1.0924\n",
            "t = 500, loss = 1.0481\n",
            "Starting epoch 17 / 20\n",
            "t = 100, loss = 1.0354\n",
            "t = 200, loss = 0.8850\n",
            "t = 300, loss = 0.7820\n",
            "t = 400, loss = 0.6779\n",
            "t = 500, loss = 0.9305\n",
            "Starting epoch 18 / 20\n",
            "t = 100, loss = 0.6175\n",
            "t = 200, loss = 1.0209\n",
            "t = 300, loss = 1.0248\n",
            "t = 400, loss = 0.7061\n",
            "t = 500, loss = 1.4178\n",
            "Starting epoch 19 / 20\n",
            "t = 100, loss = 0.6765\n",
            "t = 200, loss = 1.0095\n",
            "t = 300, loss = 0.8725\n",
            "t = 400, loss = 0.9053\n",
            "t = 500, loss = 1.2328\n",
            "Starting epoch 20 / 20\n",
            "t = 100, loss = 0.8983\n",
            "t = 200, loss = 0.8140\n",
            "t = 300, loss = 0.9452\n",
            "t = 400, loss = 0.9905\n",
            "t = 500, loss = 0.6485\n",
            "time used: 2616.1505234241486\n",
            "Checking accuracy on validation set\n"
          ],
          "name": "stdout"
        },
        {
          "output_type": "stream",
          "text": [
            "/usr/local/lib/python3.6/dist-packages/ipykernel_launcher.py:28: UserWarning: volatile was removed and now has no effect. Use `with torch.no_grad():` instead.\n"
          ],
          "name": "stderr"
        },
        {
          "output_type": "stream",
          "text": [
            "Got 5316 / 5600 correct (94.93)\n"
          ],
          "name": "stdout"
        }
      ]
    },
    {
      "cell_type": "markdown",
      "metadata": {
        "id": "1fHFOu7ftzA_",
        "colab_type": "text"
      },
      "source": [
        "# Model3 92.3%\n"
      ]
    },
    {
      "cell_type": "code",
      "metadata": {
        "id": "hr1D8wsdt328",
        "colab_type": "code",
        "outputId": "90e237be-6d03-4661-d97c-69b42c23bbb9",
        "colab": {
          "base_uri": "https://localhost:8080/",
          "height": 1000
        }
      },
      "source": [
        "model3 = nn.Sequential(\n",
        "    nn.Conv2d(3, 5, kernel_size=12, stride=1),\n",
        "    nn.ReLU(inplace=True),\n",
        "    nn.BatchNorm2d(5),\n",
        "    nn.Conv2d(5, 7, kernel_size=24, stride=3),\n",
        "    nn.ReLU(inplace=True),\n",
        "    nn.BatchNorm2d(7),\n",
        "    nn.MaxPool2d(2,stride=2),\n",
        "    nn.Flatten(),\n",
        "    nn.Linear(7168, 1000),\n",
        "    nn.ReLU(inplace=True),\n",
        "    nn.Linear(1000, 10)\n",
        ").type(gpu_dtype)\n",
        "\n",
        "t = time.time()\n",
        "loss_fn = nn.CrossEntropyLoss().type(gpu_dtype)\n",
        "optimizer = optim.Adadelta(model3.parameters(), lr=1e-1)\n",
        "train(model3, loss_fn, optimizer, num_epochs=20)\n",
        "print('time used:', time.time() - t)\n",
        "check_accuracy(model3)\n",
        "torch.save(model3.state_dict(), \"/content/drive/My Drive/cs175_data/model3.pt\")"
      ],
      "execution_count": 0,
      "outputs": [
        {
          "output_type": "stream",
          "text": [
            "Starting epoch 1 / 20\n",
            "t = 100, loss = 2.2020\n",
            "t = 200, loss = 2.3266\n",
            "t = 300, loss = 2.1163\n",
            "t = 400, loss = 1.9708\n",
            "t = 500, loss = 2.0214\n",
            "Starting epoch 2 / 20\n",
            "t = 100, loss = 1.9748\n",
            "t = 200, loss = 2.2127\n",
            "t = 300, loss = 2.0074\n",
            "t = 400, loss = 1.9990\n",
            "t = 500, loss = 1.8116\n",
            "Starting epoch 3 / 20\n",
            "t = 100, loss = 1.9899\n",
            "t = 200, loss = 1.5907\n",
            "t = 300, loss = 1.5203\n",
            "t = 400, loss = 1.7583\n",
            "t = 500, loss = 1.6141\n",
            "Starting epoch 4 / 20\n",
            "t = 100, loss = 1.7180\n",
            "t = 200, loss = 2.0060\n",
            "t = 300, loss = 1.6369\n",
            "t = 400, loss = 1.4087\n",
            "t = 500, loss = 2.1279\n",
            "Starting epoch 5 / 20\n",
            "t = 100, loss = 1.6230\n",
            "t = 200, loss = 1.3712\n",
            "t = 300, loss = 1.5258\n",
            "t = 400, loss = 1.5738\n",
            "t = 500, loss = 1.6311\n",
            "Starting epoch 6 / 20\n",
            "t = 100, loss = 1.4880\n",
            "t = 200, loss = 1.3271\n",
            "t = 300, loss = 1.6876\n",
            "t = 400, loss = 1.3848\n",
            "t = 500, loss = 1.3508\n",
            "Starting epoch 7 / 20\n",
            "t = 100, loss = 1.8823\n",
            "t = 200, loss = 1.5450\n",
            "t = 300, loss = 1.3086\n",
            "t = 400, loss = 1.3623\n",
            "t = 500, loss = 1.3348\n",
            "Starting epoch 8 / 20\n",
            "t = 100, loss = 1.4150\n",
            "t = 200, loss = 1.5151\n",
            "t = 300, loss = 1.1256\n",
            "t = 400, loss = 1.4570\n",
            "t = 500, loss = 1.1051\n",
            "Starting epoch 9 / 20\n",
            "t = 100, loss = 1.4115\n",
            "t = 200, loss = 0.9263\n",
            "t = 300, loss = 1.2754\n",
            "t = 400, loss = 1.0819\n",
            "t = 500, loss = 1.0515\n",
            "Starting epoch 10 / 20\n",
            "t = 100, loss = 1.1627\n",
            "t = 200, loss = 1.3876\n",
            "t = 300, loss = 0.7580\n",
            "t = 400, loss = 0.8032\n",
            "t = 500, loss = 1.0278\n",
            "Starting epoch 11 / 20\n",
            "t = 100, loss = 1.0428\n",
            "t = 200, loss = 1.1666\n",
            "t = 300, loss = 1.1858\n",
            "t = 400, loss = 1.2827\n",
            "t = 500, loss = 1.2268\n",
            "Starting epoch 12 / 20\n",
            "t = 100, loss = 0.9213\n",
            "t = 200, loss = 1.0436\n",
            "t = 300, loss = 1.0855\n",
            "t = 400, loss = 1.1736\n",
            "t = 500, loss = 1.2688\n",
            "Starting epoch 13 / 20\n",
            "t = 100, loss = 1.8409\n",
            "t = 200, loss = 1.3060\n",
            "t = 300, loss = 1.5356\n",
            "t = 400, loss = 1.3679\n",
            "t = 500, loss = 1.1195\n",
            "Starting epoch 14 / 20\n",
            "t = 100, loss = 1.2609\n",
            "t = 200, loss = 0.8496\n",
            "t = 300, loss = 1.3410\n",
            "t = 400, loss = 0.8092\n",
            "t = 500, loss = 1.1001\n",
            "Starting epoch 15 / 20\n",
            "t = 100, loss = 1.2639\n",
            "t = 200, loss = 1.0558\n",
            "t = 300, loss = 1.4647\n",
            "t = 400, loss = 0.8408\n",
            "t = 500, loss = 0.9280\n",
            "Starting epoch 16 / 20\n",
            "t = 100, loss = 1.1343\n",
            "t = 200, loss = 1.4271\n",
            "t = 300, loss = 0.9962\n",
            "t = 400, loss = 1.5008\n",
            "t = 500, loss = 1.0462\n",
            "Starting epoch 17 / 20\n",
            "t = 100, loss = 0.8654\n",
            "t = 200, loss = 1.0795\n",
            "t = 300, loss = 1.0528\n",
            "t = 400, loss = 1.1944\n",
            "t = 500, loss = 1.0782\n",
            "Starting epoch 18 / 20\n",
            "t = 100, loss = 1.0601\n",
            "t = 200, loss = 1.0033\n",
            "t = 300, loss = 1.0419\n",
            "t = 400, loss = 1.1239\n",
            "t = 500, loss = 1.1396\n",
            "Starting epoch 19 / 20\n",
            "t = 100, loss = 1.1994\n",
            "t = 200, loss = 1.1703\n",
            "t = 300, loss = 1.0450\n",
            "t = 400, loss = 0.9204\n",
            "t = 500, loss = 0.9699\n",
            "Starting epoch 20 / 20\n",
            "t = 100, loss = 0.9359\n",
            "t = 200, loss = 1.2876\n",
            "t = 300, loss = 1.1845\n",
            "t = 400, loss = 1.3786\n",
            "t = 500, loss = 0.8797\n",
            "time used: 2698.5537021160126\n",
            "Checking accuracy on validation set\n"
          ],
          "name": "stdout"
        },
        {
          "output_type": "stream",
          "text": [
            "/usr/local/lib/python3.6/dist-packages/ipykernel_launcher.py:75: UserWarning: volatile was removed and now has no effect. Use `with torch.no_grad():` instead.\n"
          ],
          "name": "stderr"
        },
        {
          "output_type": "stream",
          "text": [
            "Got 5168 / 5600 correct (92.29)\n"
          ],
          "name": "stdout"
        }
      ]
    },
    {
      "cell_type": "markdown",
      "metadata": {
        "id": "mHktLpAqI08j",
        "colab_type": "text"
      },
      "source": [
        "# model4 93.7%"
      ]
    },
    {
      "cell_type": "code",
      "metadata": {
        "id": "I9aqVrXBIz-o",
        "colab_type": "code",
        "outputId": "b6043483-0d99-41c7-9634-ecb92e7fb652",
        "colab": {
          "base_uri": "https://localhost:8080/",
          "height": 1000
        }
      },
      "source": [
        "model4 = nn.Sequential(\n",
        "    nn.Conv2d(3, 6, kernel_size=24, stride=2),\n",
        "    nn.ReLU(inplace=True),\n",
        "    nn.BatchNorm2d(6),\n",
        "    nn.Conv2d(6, 12, kernel_size=24, stride=2),\n",
        "    nn.ReLU(inplace=True),\n",
        "    nn.BatchNorm2d(12),\n",
        "    nn.MaxPool2d(2,stride=2),\n",
        "    nn.Flatten(),\n",
        "    nn.Linear(4332, 1000),\n",
        "    nn.ReLU(inplace=True),\n",
        "    nn.Linear(1000, 10)\n",
        ").type(gpu_dtype)\n",
        "\n",
        "t = time.time()\n",
        "loss_fn = nn.CrossEntropyLoss().type(gpu_dtype)\n",
        "optimizer = optim.Adadelta(model4.parameters(), lr=1e-1)\n",
        "train(model4, loss_fn, optimizer, num_epochs=20)\n",
        "print('time used:', time.time() - t)\n",
        "check_accuracy(model4)\n",
        "torch.save(model4.state_dict(), \"/content/drive/My Drive/cs175_data/model4.pt\")"
      ],
      "execution_count": 0,
      "outputs": [
        {
          "output_type": "stream",
          "text": [
            "Starting epoch 1 / 20\n",
            "t = 100, loss = 2.3213\n",
            "t = 200, loss = 1.9204\n",
            "t = 300, loss = 2.2253\n",
            "t = 400, loss = 2.1726\n",
            "t = 500, loss = 1.9899\n",
            "Starting epoch 2 / 20\n",
            "t = 100, loss = 2.0153\n",
            "t = 200, loss = 1.8344\n",
            "t = 300, loss = 1.7615\n",
            "t = 400, loss = 1.7022\n",
            "t = 500, loss = 1.8253\n",
            "Starting epoch 3 / 20\n",
            "t = 100, loss = 1.7607\n",
            "t = 200, loss = 1.8861\n",
            "t = 300, loss = 2.2434\n",
            "t = 400, loss = 1.9345\n",
            "t = 500, loss = 1.7429\n",
            "Starting epoch 4 / 20\n",
            "t = 100, loss = 1.7104\n",
            "t = 200, loss = 1.6987\n",
            "t = 300, loss = 1.8311\n",
            "t = 400, loss = 1.5862\n",
            "t = 500, loss = 1.3091\n",
            "Starting epoch 5 / 20\n",
            "t = 100, loss = 1.5731\n",
            "t = 200, loss = 1.7085\n",
            "t = 300, loss = 1.2594\n",
            "t = 400, loss = 1.4848\n",
            "t = 500, loss = 1.6021\n",
            "Starting epoch 6 / 20\n",
            "t = 100, loss = 1.5217\n",
            "t = 200, loss = 1.3412\n",
            "t = 300, loss = 1.2742\n",
            "t = 400, loss = 1.3493\n",
            "t = 500, loss = 1.6874\n",
            "Starting epoch 7 / 20\n",
            "t = 100, loss = 1.2607\n",
            "t = 200, loss = 1.4033\n",
            "t = 300, loss = 1.2268\n",
            "t = 400, loss = 1.3495\n",
            "t = 500, loss = 1.3899\n",
            "Starting epoch 8 / 20\n",
            "t = 100, loss = 1.5041\n",
            "t = 200, loss = 1.0393\n",
            "t = 300, loss = 1.1805\n",
            "t = 400, loss = 1.6135\n",
            "t = 500, loss = 1.4139\n",
            "Starting epoch 9 / 20\n",
            "t = 100, loss = 1.1245\n",
            "t = 200, loss = 1.6233\n",
            "t = 300, loss = 1.3982\n",
            "t = 400, loss = 1.5876\n",
            "t = 500, loss = 1.3804\n",
            "Starting epoch 10 / 20\n",
            "t = 100, loss = 1.0789\n",
            "t = 200, loss = 1.2622\n",
            "t = 300, loss = 1.1796\n",
            "t = 400, loss = 1.0934\n",
            "t = 500, loss = 1.2222\n",
            "Starting epoch 11 / 20\n",
            "t = 100, loss = 0.9063\n",
            "t = 200, loss = 1.2056\n",
            "t = 300, loss = 1.4903\n",
            "t = 400, loss = 1.3320\n",
            "t = 500, loss = 0.9947\n",
            "Starting epoch 12 / 20\n",
            "t = 100, loss = 0.8868\n",
            "t = 200, loss = 1.1956\n",
            "t = 300, loss = 1.1851\n",
            "t = 400, loss = 1.3288\n",
            "t = 500, loss = 1.3870\n",
            "Starting epoch 13 / 20\n",
            "t = 100, loss = 0.8331\n",
            "t = 200, loss = 0.9302\n",
            "t = 300, loss = 1.3000\n",
            "t = 400, loss = 1.4113\n",
            "t = 500, loss = 0.7498\n",
            "Starting epoch 14 / 20\n",
            "t = 100, loss = 1.1391\n",
            "t = 200, loss = 0.9965\n",
            "t = 300, loss = 1.2589\n",
            "t = 400, loss = 1.1996\n",
            "t = 500, loss = 0.9726\n",
            "Starting epoch 15 / 20\n",
            "t = 100, loss = 0.9383\n",
            "t = 200, loss = 0.9298\n",
            "t = 300, loss = 1.1724\n",
            "t = 400, loss = 0.8728\n",
            "t = 500, loss = 1.2145\n",
            "Starting epoch 16 / 20\n",
            "t = 100, loss = 1.1844\n",
            "t = 200, loss = 0.9001\n",
            "t = 300, loss = 0.9663\n",
            "t = 400, loss = 0.7942\n",
            "t = 500, loss = 1.3437\n",
            "Starting epoch 17 / 20\n",
            "t = 100, loss = 1.3702\n",
            "t = 200, loss = 0.7628\n",
            "t = 300, loss = 1.0034\n",
            "t = 400, loss = 1.1374\n",
            "t = 500, loss = 0.8602\n",
            "Starting epoch 18 / 20\n",
            "t = 100, loss = 1.1886\n",
            "t = 200, loss = 1.2448\n",
            "t = 300, loss = 1.5511\n",
            "t = 400, loss = 1.2301\n",
            "t = 500, loss = 0.8567\n",
            "Starting epoch 19 / 20\n",
            "t = 100, loss = 1.1141\n",
            "t = 200, loss = 0.9089\n",
            "t = 300, loss = 0.9855\n",
            "t = 400, loss = 1.2273\n",
            "t = 500, loss = 0.8746\n",
            "Starting epoch 20 / 20\n",
            "t = 200, loss = 0.9148\n",
            "t = 300, loss = 1.1491\n",
            "t = 400, loss = 0.8555\n",
            "t = 500, loss = 0.5173\n",
            "time used: 7972.912641525269\n",
            "Checking accuracy on validation set\n"
          ],
          "name": "stdout"
        },
        {
          "output_type": "stream",
          "text": [
            "/usr/local/lib/python3.6/dist-packages/ipykernel_launcher.py:75: UserWarning: volatile was removed and now has no effect. Use `with torch.no_grad():` instead.\n"
          ],
          "name": "stderr"
        },
        {
          "output_type": "stream",
          "text": [
            "Got 5249 / 5600 correct (93.73)\n"
          ],
          "name": "stdout"
        }
      ]
    },
    {
      "cell_type": "markdown",
      "metadata": {
        "id": "3_LjA2FU417Y",
        "colab_type": "text"
      },
      "source": [
        "# model5 90.1%"
      ]
    },
    {
      "cell_type": "code",
      "metadata": {
        "id": "I0zhLLaQ446F",
        "colab_type": "code",
        "outputId": "f8886e25-c391-4238-c2e6-c65b96556321",
        "colab": {
          "base_uri": "https://localhost:8080/",
          "height": 1000
        }
      },
      "source": [
        "model5 = nn.Sequential(\n",
        "    nn.Conv2d(3, 9, kernel_size=24, stride=2),\n",
        "    nn.ReLU(inplace=True),\n",
        "    nn.BatchNorm2d(9),\n",
        "    nn.Conv2d(9, 18, kernel_size=24, stride=2),\n",
        "    nn.ReLU(inplace=True),\n",
        "    nn.BatchNorm2d(18),\n",
        "    nn.MaxPool2d(2,stride=2),\n",
        "    nn.Flatten(),\n",
        "    nn.Linear(6498, 1000),\n",
        "    nn.ReLU(inplace=True),\n",
        "    nn.Linear(1000, 10)\n",
        ").type(gpu_dtype)\n",
        "\n",
        "t = time.time()\n",
        "loss_fn = nn.CrossEntropyLoss().type(gpu_dtype)\n",
        "optimizer = optim.Adam(model5.parameters(), lr=0.001, betas=(0.9, 0.999), eps=1e-08, weight_decay=0, amsgrad=False)\n",
        "train(model5, loss_fn, optimizer, num_epochs=20)\n",
        "print('time used:', time.time() - t)\n",
        "check_accuracy(model5)\n",
        "torch.save(model5.state_dict(), \"/content/drive/My Drive/cs175_data/model5.pt\")"
      ],
      "execution_count": 0,
      "outputs": [
        {
          "output_type": "stream",
          "text": [
            "Starting epoch 1 / 20\n",
            "t = 100, loss = 2.4931\n",
            "t = 200, loss = 2.3106\n",
            "t = 300, loss = 2.1481\n",
            "t = 400, loss = 2.1586\n",
            "t = 500, loss = 2.1011\n",
            "Starting epoch 2 / 20\n",
            "t = 100, loss = 2.0120\n",
            "t = 200, loss = 1.9518\n",
            "t = 300, loss = 2.0738\n",
            "t = 400, loss = 1.9686\n",
            "t = 500, loss = 2.0882\n",
            "Starting epoch 3 / 20\n",
            "t = 100, loss = 1.6825\n",
            "t = 200, loss = 1.8375\n",
            "t = 300, loss = 1.9953\n",
            "t = 400, loss = 1.7263\n",
            "t = 500, loss = 1.5180\n",
            "Starting epoch 4 / 20\n",
            "t = 100, loss = 1.8210\n",
            "t = 200, loss = 1.8006\n",
            "t = 300, loss = 1.5932\n",
            "t = 400, loss = 1.5214\n",
            "t = 500, loss = 1.4642\n",
            "Starting epoch 5 / 20\n",
            "t = 100, loss = 1.4007\n",
            "t = 200, loss = 1.4491\n",
            "t = 300, loss = 1.7013\n",
            "t = 400, loss = 1.5746\n",
            "t = 500, loss = 1.6704\n",
            "Starting epoch 6 / 20\n",
            "t = 200, loss = 1.4029\n",
            "t = 300, loss = 1.8718\n",
            "t = 400, loss = 2.0204\n",
            "t = 500, loss = 1.6196\n",
            "Starting epoch 7 / 20\n",
            "t = 100, loss = 1.7404\n",
            "t = 200, loss = 1.4660\n",
            "t = 300, loss = 1.2773\n",
            "t = 400, loss = 1.4135\n",
            "t = 500, loss = 1.4620\n",
            "Starting epoch 8 / 20\n",
            "t = 100, loss = 1.1039\n",
            "t = 200, loss = 1.1166\n",
            "t = 300, loss = 1.5328\n",
            "t = 400, loss = 1.4943\n",
            "t = 500, loss = 1.6712\n",
            "Starting epoch 9 / 20\n",
            "t = 100, loss = 1.4139\n",
            "t = 200, loss = 1.5407\n",
            "t = 300, loss = 1.6835\n",
            "t = 400, loss = 1.7813\n",
            "t = 500, loss = 1.4374\n",
            "Starting epoch 10 / 20\n",
            "t = 100, loss = 1.2401\n",
            "t = 200, loss = 1.2204\n",
            "t = 300, loss = 1.2282\n",
            "t = 400, loss = 1.2133\n",
            "t = 500, loss = 1.6175\n",
            "Starting epoch 11 / 20\n",
            "t = 100, loss = 1.5976\n",
            "t = 200, loss = 1.2230\n",
            "t = 300, loss = 1.3753\n",
            "t = 400, loss = 1.4806\n",
            "t = 500, loss = 1.3502\n",
            "Starting epoch 12 / 20\n",
            "t = 100, loss = 1.2435\n",
            "t = 200, loss = 1.4850\n",
            "t = 300, loss = 1.2561\n",
            "t = 400, loss = 1.5102\n",
            "t = 500, loss = 1.2751\n",
            "Starting epoch 13 / 20\n",
            "t = 100, loss = 1.2653\n",
            "t = 200, loss = 1.4158\n",
            "t = 300, loss = 1.1701\n",
            "t = 400, loss = 1.1652\n",
            "t = 500, loss = 1.4138\n",
            "Starting epoch 14 / 20\n",
            "t = 100, loss = 0.7426\n",
            "t = 200, loss = 1.1232\n",
            "t = 300, loss = 1.5761\n",
            "t = 400, loss = 1.3548\n",
            "t = 500, loss = 0.9681\n",
            "Starting epoch 15 / 20\n",
            "t = 100, loss = 1.1399\n",
            "t = 200, loss = 1.3931\n",
            "t = 300, loss = 0.9550\n",
            "t = 400, loss = 1.2080\n",
            "t = 500, loss = 1.0962\n",
            "Starting epoch 16 / 20\n",
            "t = 100, loss = 1.1530\n",
            "t = 200, loss = 1.1774\n",
            "t = 300, loss = 1.2268\n",
            "t = 400, loss = 1.0554\n",
            "t = 500, loss = 1.5892\n",
            "Starting epoch 17 / 20\n",
            "t = 100, loss = 1.3306\n",
            "t = 200, loss = 1.1556\n",
            "t = 300, loss = 1.0590\n",
            "t = 400, loss = 0.8418\n",
            "t = 500, loss = 1.7514\n",
            "Starting epoch 18 / 20\n",
            "t = 100, loss = 1.1377\n",
            "t = 200, loss = 1.2598\n",
            "t = 300, loss = 1.6478\n",
            "t = 400, loss = 1.2107\n",
            "t = 500, loss = 1.2098\n",
            "Starting epoch 19 / 20\n",
            "t = 100, loss = 1.1756\n",
            "t = 200, loss = 1.1815\n",
            "t = 300, loss = 1.6152\n",
            "t = 400, loss = 0.6170\n",
            "t = 500, loss = 1.1201\n",
            "Starting epoch 20 / 20\n",
            "t = 100, loss = 1.2355\n",
            "t = 200, loss = 1.3771\n",
            "t = 300, loss = 1.3719\n",
            "t = 400, loss = 1.0338\n",
            "t = 500, loss = 1.0461\n",
            "time used: 3433.83998131752\n",
            "Checking accuracy on validation set\n"
          ],
          "name": "stdout"
        },
        {
          "output_type": "stream",
          "text": [
            "/usr/local/lib/python3.6/dist-packages/ipykernel_launcher.py:75: UserWarning: volatile was removed and now has no effect. Use `with torch.no_grad():` instead.\n"
          ],
          "name": "stderr"
        },
        {
          "output_type": "stream",
          "text": [
            "Got 5095 / 5600 correct (90.98)\n"
          ],
          "name": "stdout"
        }
      ]
    },
    {
      "cell_type": "markdown",
      "metadata": {
        "id": "rZ0o8FMQLc_f",
        "colab_type": "text"
      },
      "source": [
        "# model6 92.6%"
      ]
    },
    {
      "cell_type": "code",
      "metadata": {
        "id": "0RZZ0ITDLgj8",
        "colab_type": "code",
        "outputId": "c03e59c7-74b9-4efc-aeaf-4f9d73b888e2",
        "colab": {
          "base_uri": "https://localhost:8080/",
          "height": 1000
        }
      },
      "source": [
        "model6 = nn.Sequential(\n",
        "    nn.Conv2d(3, 9, kernel_size=24, stride=2),\n",
        "    nn.ReLU(inplace=True),\n",
        "    nn.BatchNorm2d(9),\n",
        "    nn.Conv2d(9, 18, kernel_size=24, stride=2),\n",
        "    nn.ReLU(inplace=True),\n",
        "    nn.BatchNorm2d(18),\n",
        "    nn.MaxPool2d(2,stride=2),\n",
        "    nn.Flatten(),\n",
        "    nn.Linear(6498, 1000),\n",
        "    nn.ReLU(inplace=True),\n",
        "    nn.Linear(1000, 10)\n",
        ").type(gpu_dtype)\n",
        "\n",
        "t = time.time()\n",
        "loss_fn = nn.CrossEntropyLoss().type(gpu_dtype)\n",
        "optimizer = optim.Adam(model6.parameters(), lr=0.00005, betas=(0.9, 0.999), eps=1e-08, weight_decay=0, amsgrad=False)\n",
        "train(model6, loss_fn, optimizer, num_epochs=20)\n",
        "print('time used:', time.time() - t)\n",
        "check_accuracy(model6)\n",
        "torch.save(model6.state_dict(), \"/content/drive/My Drive/cs175_data/model6.pt\")"
      ],
      "execution_count": 0,
      "outputs": [
        {
          "output_type": "stream",
          "text": [
            "Starting epoch 1 / 20\n",
            "t = 100, loss = 2.2297\n",
            "t = 200, loss = 2.2050\n",
            "t = 300, loss = 2.1202\n",
            "t = 400, loss = 2.1179\n",
            "t = 500, loss = 2.0874\n",
            "Starting epoch 2 / 20\n",
            "t = 100, loss = 2.0196\n",
            "t = 200, loss = 1.8499\n",
            "t = 300, loss = 1.7872\n",
            "t = 400, loss = 1.8259\n",
            "t = 500, loss = 1.7340\n",
            "Starting epoch 3 / 20\n",
            "t = 100, loss = 1.7599\n",
            "t = 200, loss = 1.6801\n",
            "t = 300, loss = 1.6469\n",
            "t = 400, loss = 1.8154\n",
            "t = 500, loss = 1.5979\n",
            "Starting epoch 4 / 20\n",
            "t = 100, loss = 1.5278\n",
            "t = 200, loss = 1.3868\n",
            "t = 300, loss = 1.6215\n",
            "t = 400, loss = 1.3904\n",
            "t = 500, loss = 1.6491\n",
            "Starting epoch 5 / 20\n",
            "t = 100, loss = 1.4310\n",
            "t = 200, loss = 1.4559\n",
            "t = 300, loss = 1.4791\n",
            "t = 400, loss = 1.1543\n",
            "t = 500, loss = 1.4165\n",
            "Starting epoch 6 / 20\n",
            "t = 100, loss = 1.4724\n",
            "t = 200, loss = 1.3495\n",
            "t = 300, loss = 1.7579\n",
            "t = 400, loss = 1.1515\n",
            "t = 500, loss = 1.4268\n",
            "Starting epoch 7 / 20\n",
            "t = 100, loss = 1.3634\n",
            "t = 200, loss = 1.4477\n",
            "t = 300, loss = 1.6719\n",
            "t = 400, loss = 1.4277\n",
            "t = 500, loss = 1.4709\n",
            "Starting epoch 8 / 20\n",
            "t = 100, loss = 1.2537\n",
            "t = 200, loss = 1.0301\n",
            "t = 300, loss = 1.3581\n",
            "t = 400, loss = 1.5774\n",
            "t = 500, loss = 1.4025\n",
            "Starting epoch 9 / 20\n",
            "t = 100, loss = 1.1188\n",
            "t = 200, loss = 1.1122\n",
            "t = 300, loss = 1.6707\n",
            "t = 400, loss = 1.1985\n",
            "t = 500, loss = 1.0246\n",
            "Starting epoch 10 / 20\n",
            "t = 100, loss = 1.3004\n",
            "t = 200, loss = 1.6405\n",
            "t = 300, loss = 1.5962\n",
            "t = 400, loss = 0.8520\n",
            "t = 500, loss = 1.4175\n",
            "Starting epoch 11 / 20\n",
            "t = 100, loss = 1.0976\n",
            "t = 200, loss = 1.0515\n",
            "t = 300, loss = 0.8949\n",
            "t = 400, loss = 0.9210\n",
            "t = 500, loss = 1.3844\n",
            "Starting epoch 12 / 20\n",
            "t = 100, loss = 1.4465\n",
            "t = 200, loss = 1.0720\n",
            "t = 300, loss = 1.1656\n",
            "t = 400, loss = 0.9858\n",
            "t = 500, loss = 1.1213\n",
            "Starting epoch 13 / 20\n",
            "t = 100, loss = 1.0289\n",
            "t = 200, loss = 1.0789\n",
            "t = 300, loss = 1.2726\n",
            "t = 400, loss = 0.9928\n",
            "t = 500, loss = 1.1959\n",
            "Starting epoch 14 / 20\n",
            "t = 100, loss = 1.4719\n",
            "t = 200, loss = 0.7634\n",
            "t = 300, loss = 1.0593\n",
            "t = 400, loss = 1.0941\n",
            "t = 500, loss = 1.1790\n",
            "Starting epoch 15 / 20\n",
            "t = 100, loss = 1.3024\n",
            "t = 200, loss = 1.1174\n",
            "t = 300, loss = 1.0068\n",
            "t = 400, loss = 0.9623\n",
            "t = 500, loss = 0.9562\n",
            "Starting epoch 16 / 20\n",
            "t = 100, loss = 1.1248\n",
            "t = 200, loss = 0.7554\n",
            "t = 300, loss = 1.0919\n",
            "t = 400, loss = 1.1379\n",
            "t = 500, loss = 1.2408\n",
            "Starting epoch 17 / 20\n",
            "t = 100, loss = 0.6843\n",
            "t = 200, loss = 0.9653\n",
            "t = 300, loss = 1.1488\n",
            "t = 400, loss = 0.9402\n",
            "t = 500, loss = 1.0793\n",
            "Starting epoch 18 / 20\n",
            "t = 100, loss = 1.0329\n",
            "t = 200, loss = 0.9135\n",
            "t = 300, loss = 0.8925\n",
            "t = 400, loss = 1.0689\n",
            "t = 500, loss = 1.0434\n",
            "Starting epoch 19 / 20\n",
            "t = 100, loss = 0.8383\n",
            "t = 200, loss = 0.7555\n",
            "t = 300, loss = 0.8330\n",
            "t = 400, loss = 0.9746\n",
            "t = 500, loss = 0.8362\n",
            "Starting epoch 20 / 20\n",
            "t = 100, loss = 0.8960\n",
            "t = 200, loss = 0.9803\n",
            "t = 300, loss = 0.8067\n",
            "t = 400, loss = 1.0469\n",
            "t = 500, loss = 0.8106\n",
            "time used: 3440.2412765026093\n",
            "Checking accuracy on validation set\n"
          ],
          "name": "stdout"
        },
        {
          "output_type": "stream",
          "text": [
            "/usr/local/lib/python3.6/dist-packages/ipykernel_launcher.py:75: UserWarning: volatile was removed and now has no effect. Use `with torch.no_grad():` instead.\n"
          ],
          "name": "stderr"
        },
        {
          "output_type": "stream",
          "text": [
            "Got 5186 / 5600 correct (92.61)\n"
          ],
          "name": "stdout"
        }
      ]
    },
    {
      "cell_type": "markdown",
      "metadata": {
        "id": "4P9unNVj53zJ",
        "colab_type": "text"
      },
      "source": [
        "# model7 93.7\n"
      ]
    },
    {
      "cell_type": "code",
      "metadata": {
        "id": "rjM0ICd1520Q",
        "colab_type": "code",
        "outputId": "29510313-cded-4d48-c8b3-000feae90fe3",
        "colab": {
          "base_uri": "https://localhost:8080/",
          "height": 1000
        }
      },
      "source": [
        "model7 = nn.Sequential(\n",
        "    nn.Conv2d(3, 9, kernel_size=12, stride=1),\n",
        "    nn.ReLU(inplace=True),\n",
        "    nn.BatchNorm2d(9),\n",
        "    nn.Conv2d(9, 18, kernel_size=12, stride=1),\n",
        "    nn.ReLU(inplace=True),\n",
        "    nn.BatchNorm2d(18),\n",
        "    nn.MaxPool2d(2,stride=2),\n",
        "    nn.Flatten(),\n",
        "    nn.Linear(183618, 1024),\n",
        "    nn.ReLU(inplace=True),\n",
        "    nn.Linear(1024, 10)\n",
        ").type(gpu_dtype)\n",
        "\n",
        "t = time.time()\n",
        "loss_fn = nn.CrossEntropyLoss().type(gpu_dtype)\n",
        "optimizer = optim.Adam(model7.parameters(), lr=0.00005, betas=(0.9, 0.999), eps=1e-08, weight_decay=0, amsgrad=False)\n",
        "train(model7, loss_fn, optimizer, num_epochs=20)\n",
        "print('time used:', time.time() - t)\n",
        "check_accuracy(model7)\n",
        "torch.save(model7.state_dict(), \"/content/drive/My Drive/cs175_data/model7.pt\")"
      ],
      "execution_count": 0,
      "outputs": [
        {
          "output_type": "stream",
          "text": [
            "Starting epoch 1 / 20\n",
            "t = 100, loss = 2.2580\n",
            "t = 200, loss = 2.1690\n",
            "t = 300, loss = 2.2466\n",
            "t = 400, loss = 2.1727\n",
            "t = 500, loss = 2.2463\n",
            "Starting epoch 2 / 20\n",
            "t = 100, loss = 2.2751\n",
            "t = 200, loss = 2.2259\n",
            "t = 300, loss = 1.6811\n",
            "t = 400, loss = 2.1311\n",
            "t = 500, loss = 2.1120\n",
            "Starting epoch 3 / 20\n",
            "t = 100, loss = 1.9175\n",
            "t = 200, loss = 1.5875\n",
            "t = 300, loss = 1.9393\n",
            "t = 400, loss = 1.6767\n",
            "t = 500, loss = 1.6352\n",
            "Starting epoch 4 / 20\n",
            "t = 100, loss = 1.7245\n",
            "t = 200, loss = 2.0851\n",
            "t = 300, loss = 1.5322\n",
            "t = 400, loss = 1.7748\n",
            "t = 500, loss = 1.3840\n",
            "Starting epoch 5 / 20\n",
            "t = 100, loss = 1.3361\n",
            "t = 200, loss = 1.7785\n",
            "t = 300, loss = 1.3848\n",
            "t = 400, loss = 1.8666\n",
            "t = 500, loss = 1.4046\n",
            "Starting epoch 6 / 20\n",
            "t = 100, loss = 0.9295\n",
            "t = 200, loss = 1.5136\n",
            "t = 300, loss = 1.3249\n",
            "t = 400, loss = 1.7197\n",
            "t = 500, loss = 1.2546\n",
            "Starting epoch 7 / 20\n",
            "t = 100, loss = 1.1277\n",
            "t = 200, loss = 1.1962\n",
            "t = 300, loss = 1.6071\n",
            "t = 400, loss = 1.3027\n",
            "t = 500, loss = 1.4001\n",
            "Starting epoch 8 / 20\n",
            "t = 100, loss = 1.3734\n",
            "t = 200, loss = 1.0531\n",
            "t = 300, loss = 1.2640\n",
            "t = 400, loss = 1.2162\n",
            "t = 500, loss = 1.3327\n",
            "Starting epoch 9 / 20\n",
            "t = 100, loss = 1.0398\n",
            "t = 200, loss = 1.2760\n",
            "t = 300, loss = 1.1148\n",
            "t = 400, loss = 1.0169\n",
            "t = 500, loss = 1.0525\n",
            "Starting epoch 10 / 20\n",
            "t = 100, loss = 1.2651\n",
            "t = 200, loss = 1.1857\n",
            "t = 300, loss = 1.0751\n",
            "t = 400, loss = 1.3960\n",
            "t = 500, loss = 1.3089\n",
            "Starting epoch 11 / 20\n",
            "t = 100, loss = 1.2564\n",
            "t = 200, loss = 1.0604\n",
            "t = 300, loss = 0.8209\n",
            "t = 400, loss = 0.6986\n",
            "t = 500, loss = 1.0615\n",
            "Starting epoch 12 / 20\n",
            "t = 100, loss = 1.0996\n",
            "t = 200, loss = 0.9215\n",
            "t = 300, loss = 1.1015\n",
            "t = 400, loss = 0.9145\n",
            "t = 500, loss = 0.9775\n",
            "Starting epoch 13 / 20\n",
            "t = 100, loss = 0.8955\n",
            "t = 200, loss = 0.9892\n",
            "t = 300, loss = 0.7836\n",
            "t = 400, loss = 1.0215\n",
            "t = 500, loss = 1.1388\n",
            "Starting epoch 14 / 20\n",
            "t = 100, loss = 0.7524\n",
            "t = 200, loss = 0.7017\n",
            "t = 300, loss = 0.9100\n",
            "t = 400, loss = 1.0664\n",
            "t = 500, loss = 1.1080\n",
            "Starting epoch 15 / 20\n",
            "t = 100, loss = 0.5899\n",
            "t = 200, loss = 0.9272\n",
            "t = 300, loss = 1.0355\n",
            "t = 400, loss = 1.0424\n",
            "t = 500, loss = 0.8223\n",
            "Starting epoch 16 / 20\n",
            "t = 100, loss = 1.2178\n",
            "t = 200, loss = 1.0026\n",
            "t = 300, loss = 1.0568\n",
            "t = 400, loss = 1.2162\n",
            "t = 500, loss = 0.9795\n",
            "Starting epoch 17 / 20\n",
            "t = 100, loss = 0.7738\n",
            "t = 200, loss = 0.7729\n",
            "t = 300, loss = 0.8176\n",
            "t = 400, loss = 1.0201\n",
            "t = 500, loss = 1.3104\n",
            "Starting epoch 18 / 20\n",
            "t = 100, loss = 0.7569\n",
            "t = 200, loss = 0.9296\n",
            "t = 300, loss = 1.5370\n",
            "t = 400, loss = 0.8008\n",
            "t = 500, loss = 0.8889\n",
            "Starting epoch 19 / 20\n",
            "t = 100, loss = 1.1365\n",
            "t = 200, loss = 0.6276\n",
            "t = 300, loss = 0.8904\n",
            "t = 400, loss = 0.9812\n",
            "t = 500, loss = 0.8469\n",
            "Starting epoch 20 / 20\n",
            "t = 100, loss = 0.9481\n",
            "t = 200, loss = 0.7083\n",
            "t = 300, loss = 0.9138\n",
            "t = 400, loss = 0.7516\n",
            "t = 500, loss = 1.1175\n",
            "time used: 10046.392832279205\n",
            "Checking accuracy on validation set\n"
          ],
          "name": "stdout"
        },
        {
          "output_type": "stream",
          "text": [
            "/usr/local/lib/python3.6/dist-packages/ipykernel_launcher.py:75: UserWarning: volatile was removed and now has no effect. Use `with torch.no_grad():` instead.\n"
          ],
          "name": "stderr"
        },
        {
          "output_type": "stream",
          "text": [
            "Got 5248 / 5600 correct (93.71)\n"
          ],
          "name": "stdout"
        }
      ]
    },
    {
      "cell_type": "markdown",
      "metadata": {
        "id": "IPqtbbeHEDkJ",
        "colab_type": "text"
      },
      "source": [
        "# model8 95.4%"
      ]
    },
    {
      "cell_type": "code",
      "metadata": {
        "id": "k6vZxvWW5YNg",
        "colab_type": "code",
        "outputId": "3ff4bca3-b722-4c08-b690-70ba3cc4fa11",
        "colab": {
          "base_uri": "https://localhost:8080/",
          "height": 1000
        }
      },
      "source": [
        "model8 = nn.Sequential(\n",
        "    nn.Conv2d(3, 9, kernel_size=15, stride=2),\n",
        "    nn.ReLU(inplace=True),\n",
        "    nn.BatchNorm2d(9),\n",
        "    nn.Conv2d(9, 18, kernel_size=21, stride=1),\n",
        "    nn.ReLU(inplace=True),\n",
        "    nn.BatchNorm2d(18),\n",
        "    nn.MaxPool2d(2,stride=2),\n",
        "    nn.Flatten(),\n",
        "    nn.Linear(31752, 1024),\n",
        "    nn.ReLU(inplace=True),\n",
        "    nn.Linear(1024, 10)\n",
        ").type(gpu_dtype)\n",
        "\n",
        "t = time.time()\n",
        "loss_fn = nn.CrossEntropyLoss().type(gpu_dtype)\n",
        "optimizer = optim.Adam(model8.parameters(), lr=0.00005, betas=(0.9, 0.999), eps=1e-08, weight_decay=0, amsgrad=False)\n",
        "train(model8, loss_fn, optimizer, num_epochs=20)\n",
        "print('time used:', time.time() - t)\n",
        "check_accuracy(model8)\n",
        "torch.save(model8.state_dict(), \"/content/drive/My Drive/cs175_data/model8.pt\")"
      ],
      "execution_count": 0,
      "outputs": [
        {
          "output_type": "stream",
          "text": [
            "Starting epoch 1 / 20\n",
            "t = 100, loss = 2.2954\n",
            "t = 200, loss = 2.2291\n",
            "t = 300, loss = 2.1984\n",
            "t = 400, loss = 2.1231\n",
            "t = 500, loss = 2.1017\n",
            "Starting epoch 2 / 20\n",
            "t = 100, loss = 1.9562\n",
            "t = 200, loss = 1.7082\n",
            "t = 300, loss = 2.0125\n",
            "t = 400, loss = 1.7420\n",
            "t = 500, loss = 1.7710\n",
            "Starting epoch 3 / 20\n",
            "t = 100, loss = 1.3835\n",
            "t = 200, loss = 1.5732\n",
            "t = 300, loss = 1.7310\n",
            "t = 400, loss = 1.3413\n",
            "t = 500, loss = 1.5364\n",
            "Starting epoch 4 / 20\n",
            "t = 100, loss = 1.5597\n",
            "t = 200, loss = 1.3066\n",
            "t = 300, loss = 1.5810\n",
            "t = 400, loss = 1.4282\n",
            "t = 500, loss = 1.2873\n",
            "Starting epoch 5 / 20\n",
            "t = 100, loss = 1.3338\n",
            "t = 200, loss = 1.2936\n",
            "t = 300, loss = 1.1190\n",
            "t = 400, loss = 1.2199\n",
            "t = 500, loss = 1.2116\n",
            "Starting epoch 6 / 20\n",
            "t = 100, loss = 1.3043\n",
            "t = 200, loss = 1.1666\n",
            "t = 300, loss = 1.3716\n",
            "t = 400, loss = 1.3006\n",
            "t = 500, loss = 0.9840\n",
            "Starting epoch 7 / 20\n",
            "t = 100, loss = 0.9601\n",
            "t = 200, loss = 1.0710\n",
            "t = 300, loss = 1.1031\n",
            "t = 400, loss = 0.8970\n",
            "t = 500, loss = 1.0305\n",
            "Starting epoch 8 / 20\n",
            "t = 100, loss = 1.1665\n",
            "t = 200, loss = 1.0982\n",
            "t = 300, loss = 0.9234\n",
            "t = 400, loss = 0.8528\n",
            "t = 500, loss = 1.0680\n",
            "Starting epoch 9 / 20\n",
            "t = 100, loss = 1.0657\n",
            "t = 200, loss = 1.3025\n",
            "t = 300, loss = 0.9713\n",
            "t = 400, loss = 0.6377\n",
            "t = 500, loss = 0.9612\n",
            "Starting epoch 10 / 20\n",
            "t = 100, loss = 0.6958\n",
            "t = 200, loss = 1.2379\n",
            "t = 300, loss = 1.1006\n",
            "t = 400, loss = 0.8859\n",
            "t = 500, loss = 0.9814\n",
            "Starting epoch 11 / 20\n",
            "t = 100, loss = 0.8262\n",
            "t = 200, loss = 0.8233\n",
            "t = 300, loss = 0.6982\n",
            "t = 400, loss = 0.9894\n",
            "t = 500, loss = 0.8398\n",
            "Starting epoch 12 / 20\n",
            "t = 100, loss = 0.9607\n",
            "t = 200, loss = 1.0613\n",
            "t = 300, loss = 0.9978\n",
            "t = 400, loss = 1.1446\n",
            "t = 500, loss = 1.0031\n",
            "Starting epoch 13 / 20\n",
            "t = 100, loss = 0.9407\n",
            "t = 200, loss = 1.0868\n",
            "t = 300, loss = 1.0391\n",
            "t = 400, loss = 0.8396\n",
            "t = 500, loss = 0.8197\n",
            "Starting epoch 14 / 20\n",
            "t = 100, loss = 1.2577\n",
            "t = 200, loss = 0.7569\n",
            "t = 300, loss = 0.6713\n",
            "t = 400, loss = 1.2260\n",
            "t = 500, loss = 0.7184\n",
            "Starting epoch 15 / 20\n",
            "t = 100, loss = 0.6282\n",
            "t = 200, loss = 0.6646\n",
            "t = 300, loss = 0.8839\n",
            "t = 400, loss = 1.1573\n",
            "t = 500, loss = 0.8893\n",
            "Starting epoch 16 / 20\n",
            "t = 100, loss = 0.8894\n",
            "t = 200, loss = 0.8237\n",
            "t = 300, loss = 0.8323\n",
            "t = 400, loss = 0.8460\n",
            "t = 500, loss = 0.8167\n",
            "Starting epoch 17 / 20\n",
            "t = 100, loss = 0.8088\n",
            "t = 200, loss = 1.0584\n",
            "t = 300, loss = 0.8001\n",
            "t = 400, loss = 0.4663\n",
            "t = 500, loss = 0.6176\n",
            "Starting epoch 18 / 20\n",
            "t = 100, loss = 0.7326\n",
            "t = 200, loss = 0.7162\n",
            "t = 300, loss = 1.2051\n",
            "t = 400, loss = 1.1852\n",
            "t = 500, loss = 0.9786\n",
            "Starting epoch 19 / 20\n",
            "t = 100, loss = 0.6045\n",
            "t = 200, loss = 1.0123\n",
            "t = 300, loss = 0.8483\n",
            "t = 400, loss = 0.6633\n",
            "t = 500, loss = 1.1189\n",
            "Starting epoch 20 / 20\n",
            "t = 100, loss = 0.7806\n",
            "t = 200, loss = 0.8599\n",
            "t = 300, loss = 0.5692\n",
            "t = 400, loss = 1.3176\n",
            "t = 500, loss = 0.8035\n",
            "time used: 2586.218258857727\n",
            "Checking accuracy on validation set\n"
          ],
          "name": "stdout"
        },
        {
          "output_type": "stream",
          "text": [
            "/usr/local/lib/python3.6/dist-packages/ipykernel_launcher.py:75: UserWarning: volatile was removed and now has no effect. Use `with torch.no_grad():` instead.\n"
          ],
          "name": "stderr"
        },
        {
          "output_type": "stream",
          "text": [
            "Got 5340 / 5600 correct (95.36)\n"
          ],
          "name": "stdout"
        }
      ]
    },
    {
      "cell_type": "markdown",
      "metadata": {
        "id": "N-nooqwAEKWR",
        "colab_type": "text"
      },
      "source": [
        "# model9 96.18"
      ]
    },
    {
      "cell_type": "code",
      "metadata": {
        "id": "GRK4tEsoEJmC",
        "colab_type": "code",
        "outputId": "88d7791b-94a9-40fe-db1b-5639f03ee424",
        "colab": {
          "base_uri": "https://localhost:8080/",
          "height": 1000
        }
      },
      "source": [
        "model9 = nn.Sequential(\n",
        "    nn.Conv2d(3, 9, kernel_size=15, stride=2),\n",
        "    nn.ReLU(inplace=True),\n",
        "    nn.BatchNorm2d(9),\n",
        "    nn.Conv2d(9, 18, kernel_size=21, stride=1),\n",
        "    nn.ReLU(inplace=True),\n",
        "    nn.BatchNorm2d(18),\n",
        "    nn.MaxPool2d(2,stride=2),\n",
        "    nn.Flatten(),\n",
        "    nn.Linear(31752, 1024),\n",
        "    nn.ReLU(inplace=True),\n",
        "    nn.Linear(1024, 10)\n",
        ").type(gpu_dtype)\n",
        "\n",
        "t = time.time()\n",
        "loss_fn = nn.CrossEntropyLoss().type(gpu_dtype)\n",
        "optimizer = optim.Adam(model9.parameters(), lr=0.00003, betas=(0.9, 0.999), eps=1e-08, weight_decay=0, amsgrad=False)\n",
        "train(model9, loss_fn, optimizer, num_epochs=20)\n",
        "print('time used:', time.time() - t)\n",
        "check_accuracy(model9)\n",
        "torch.save(model9.state_dict(), \"/content/drive/My Drive/cs175_data/model9.pt\")"
      ],
      "execution_count": 0,
      "outputs": [
        {
          "output_type": "stream",
          "text": [
            "Starting epoch 1 / 20\n",
            "t = 100, loss = 2.4085\n",
            "t = 200, loss = 2.4527\n",
            "t = 300, loss = 2.1974\n",
            "t = 400, loss = 2.2015\n",
            "t = 500, loss = 1.9032\n",
            "Starting epoch 2 / 20\n",
            "t = 100, loss = 1.8286\n",
            "t = 200, loss = 1.8334\n",
            "t = 300, loss = 1.7831\n",
            "t = 400, loss = 1.9449\n",
            "t = 500, loss = 2.2559\n",
            "Starting epoch 3 / 20\n",
            "t = 100, loss = 1.6786\n",
            "t = 200, loss = 1.6384\n",
            "t = 300, loss = 1.4514\n",
            "t = 400, loss = 1.8785\n",
            "t = 500, loss = 1.2774\n",
            "Starting epoch 4 / 20\n",
            "t = 100, loss = 1.2685\n",
            "t = 200, loss = 1.5869\n",
            "t = 300, loss = 1.3326\n",
            "t = 400, loss = 1.3005\n",
            "t = 500, loss = 1.5173\n",
            "Starting epoch 5 / 20\n",
            "t = 100, loss = 1.5973\n",
            "t = 200, loss = 1.5631\n",
            "t = 300, loss = 1.4579\n",
            "t = 400, loss = 1.1149\n",
            "t = 500, loss = 1.5518\n",
            "Starting epoch 6 / 20\n",
            "t = 100, loss = 1.4453\n",
            "t = 200, loss = 1.4288\n",
            "t = 300, loss = 1.4034\n",
            "t = 400, loss = 1.2122\n",
            "t = 500, loss = 1.2977\n",
            "Starting epoch 7 / 20\n",
            "t = 100, loss = 1.3998\n",
            "t = 200, loss = 1.2531\n",
            "t = 300, loss = 1.0778\n",
            "t = 400, loss = 1.3629\n",
            "t = 500, loss = 1.4354\n",
            "Starting epoch 8 / 20\n",
            "t = 100, loss = 1.2826\n",
            "t = 200, loss = 1.1588\n",
            "t = 300, loss = 1.1825\n",
            "t = 400, loss = 1.2241\n",
            "t = 500, loss = 1.1511\n",
            "Starting epoch 9 / 20\n",
            "t = 100, loss = 1.0139\n",
            "t = 200, loss = 0.8695\n",
            "t = 300, loss = 1.1699\n",
            "t = 400, loss = 1.0941\n",
            "t = 500, loss = 0.8545\n",
            "Starting epoch 10 / 20\n",
            "t = 100, loss = 0.9692\n",
            "t = 200, loss = 0.9018\n",
            "t = 300, loss = 1.1732\n",
            "t = 400, loss = 0.9373\n",
            "t = 500, loss = 1.0457\n",
            "Starting epoch 11 / 20\n",
            "t = 100, loss = 1.0012\n",
            "t = 200, loss = 1.2496\n",
            "t = 300, loss = 1.0850\n",
            "t = 400, loss = 0.9446\n",
            "t = 500, loss = 1.0315\n",
            "Starting epoch 12 / 20\n",
            "t = 100, loss = 1.2745\n",
            "t = 200, loss = 0.9906\n",
            "t = 300, loss = 1.2603\n",
            "t = 400, loss = 1.2568\n",
            "t = 500, loss = 1.0526\n",
            "Starting epoch 13 / 20\n",
            "t = 100, loss = 0.8808\n",
            "t = 200, loss = 1.0419\n",
            "t = 300, loss = 0.9479\n",
            "t = 400, loss = 1.1454\n",
            "t = 500, loss = 0.8204\n",
            "Starting epoch 14 / 20\n",
            "t = 100, loss = 1.0466\n",
            "t = 200, loss = 1.3348\n",
            "t = 300, loss = 0.7456\n",
            "t = 400, loss = 0.6693\n",
            "t = 500, loss = 1.2409\n",
            "Starting epoch 15 / 20\n",
            "t = 100, loss = 0.4182\n",
            "t = 200, loss = 0.8087\n",
            "t = 300, loss = 1.3235\n",
            "t = 400, loss = 1.1303\n",
            "t = 500, loss = 1.1687\n",
            "Starting epoch 16 / 20\n",
            "t = 100, loss = 0.7805\n",
            "t = 200, loss = 1.1637\n",
            "t = 300, loss = 0.8838\n",
            "t = 400, loss = 1.2594\n",
            "t = 500, loss = 1.1502\n",
            "Starting epoch 17 / 20\n",
            "t = 100, loss = 0.9719\n",
            "t = 200, loss = 0.7923\n",
            "t = 300, loss = 1.0191\n",
            "t = 400, loss = 1.1686\n",
            "t = 500, loss = 1.2807\n",
            "Starting epoch 18 / 20\n",
            "t = 100, loss = 0.9039\n",
            "t = 200, loss = 0.7847\n",
            "t = 300, loss = 1.2435\n",
            "t = 400, loss = 0.7250\n",
            "t = 500, loss = 1.0076\n",
            "Starting epoch 19 / 20\n",
            "t = 100, loss = 1.1454\n",
            "t = 200, loss = 0.9069\n",
            "t = 300, loss = 0.8214\n",
            "t = 400, loss = 0.9237\n",
            "t = 500, loss = 0.5624\n",
            "Starting epoch 20 / 20\n",
            "t = 100, loss = 0.8767\n",
            "t = 200, loss = 0.7731\n",
            "t = 300, loss = 0.8600\n",
            "t = 400, loss = 0.6917\n",
            "t = 500, loss = 1.1081\n",
            "time used: 2581.2655787467957\n",
            "Checking accuracy on validation set\n"
          ],
          "name": "stdout"
        },
        {
          "output_type": "stream",
          "text": [
            "/usr/local/lib/python3.6/dist-packages/ipykernel_launcher.py:75: UserWarning: volatile was removed and now has no effect. Use `with torch.no_grad():` instead.\n"
          ],
          "name": "stderr"
        },
        {
          "output_type": "stream",
          "text": [
            "Got 5386 / 5600 correct (96.18)\n"
          ],
          "name": "stdout"
        }
      ]
    },
    {
      "cell_type": "markdown",
      "metadata": {
        "id": "4UfCFWperniG",
        "colab_type": "text"
      },
      "source": [
        "# model10 95.46"
      ]
    },
    {
      "cell_type": "code",
      "metadata": {
        "id": "ocjJd0U1rm8m",
        "colab_type": "code",
        "outputId": "48cc82b3-7b16-4dda-d26e-f685642c2d0d",
        "colab": {
          "base_uri": "https://localhost:8080/",
          "height": 1000
        }
      },
      "source": [
        "model10 = nn.Sequential(\n",
        "    nn.Conv2d(3, 9, kernel_size=15, stride=2),\n",
        "    nn.ReLU(inplace=True),\n",
        "    nn.BatchNorm2d(9),\n",
        "    nn.Conv2d(9, 18, kernel_size=21, stride=1),\n",
        "    nn.ReLU(inplace=True),\n",
        "    nn.BatchNorm2d(18),\n",
        "    nn.MaxPool2d(2,stride=2),\n",
        "    nn.Flatten(),\n",
        "    nn.Linear(31752, 1024),\n",
        "    nn.ReLU(inplace=True),\n",
        "    nn.Linear(1024, 10)\n",
        ").type(gpu_dtype)\n",
        "\n",
        "t = time.time()\n",
        "loss_fn = nn.CrossEntropyLoss().type(gpu_dtype)\n",
        "optimizer = optim.Adam(model10.parameters(), lr=0.00003, betas=(0.9, 0.999), eps=1e-08, weight_decay=0.00003, amsgrad=False)\n",
        "train(model10, loss_fn, optimizer, num_epochs=20)\n",
        "print('time used:', time.time() - t)\n",
        "check_accuracy(model10)\n",
        "torch.save(model10.state_dict(), \"/content/drive/My Drive/cs175_data/model10.pt\")"
      ],
      "execution_count": 0,
      "outputs": [
        {
          "output_type": "stream",
          "text": [
            "Starting epoch 1 / 20\n",
            "t = 100, loss = 2.1981\n",
            "t = 200, loss = 2.3920\n",
            "t = 300, loss = 2.0577\n",
            "t = 400, loss = 2.2410\n",
            "t = 500, loss = 2.1811\n",
            "Starting epoch 2 / 20\n",
            "t = 100, loss = 1.8502\n",
            "t = 200, loss = 1.8537\n",
            "t = 300, loss = 1.8243\n",
            "t = 400, loss = 1.9876\n",
            "t = 500, loss = 1.6479\n",
            "Starting epoch 3 / 20\n",
            "t = 100, loss = 1.5668\n",
            "t = 200, loss = 1.2489\n",
            "t = 300, loss = 1.7037\n",
            "t = 400, loss = 1.5891\n",
            "t = 500, loss = 1.3791\n",
            "Starting epoch 4 / 20\n",
            "t = 100, loss = 1.3635\n",
            "t = 200, loss = 1.5338\n",
            "t = 300, loss = 1.7974\n",
            "t = 400, loss = 1.5147\n",
            "t = 500, loss = 1.0708\n",
            "Starting epoch 5 / 20\n",
            "t = 100, loss = 1.7049\n",
            "t = 200, loss = 1.3851\n",
            "t = 300, loss = 1.3407\n",
            "t = 400, loss = 1.9072\n",
            "t = 500, loss = 1.5113\n",
            "Starting epoch 6 / 20\n",
            "t = 100, loss = 1.2266\n",
            "t = 200, loss = 1.0254\n",
            "t = 300, loss = 1.5452\n",
            "t = 400, loss = 1.1472\n",
            "t = 500, loss = 1.2355\n",
            "Starting epoch 7 / 20\n",
            "t = 100, loss = 1.1390\n",
            "t = 200, loss = 1.2338\n",
            "t = 300, loss = 0.9550\n",
            "t = 400, loss = 1.3608\n",
            "t = 500, loss = 1.3063\n",
            "Starting epoch 8 / 20\n",
            "t = 100, loss = 1.1417\n",
            "t = 200, loss = 1.1367\n",
            "t = 300, loss = 1.0786\n",
            "t = 400, loss = 1.2284\n",
            "t = 500, loss = 1.4308\n",
            "Starting epoch 9 / 20\n",
            "t = 100, loss = 1.1064\n",
            "t = 200, loss = 1.2608\n",
            "t = 300, loss = 0.8490\n",
            "t = 400, loss = 0.8837\n",
            "t = 500, loss = 0.8972\n",
            "Starting epoch 10 / 20\n",
            "t = 100, loss = 1.5078\n",
            "t = 200, loss = 0.7668\n",
            "t = 300, loss = 1.0730\n",
            "t = 400, loss = 0.6522\n",
            "t = 500, loss = 1.3139\n",
            "Starting epoch 11 / 20\n",
            "t = 100, loss = 1.1006\n",
            "t = 200, loss = 0.8688\n",
            "t = 300, loss = 1.2226\n",
            "t = 400, loss = 1.0644\n",
            "t = 500, loss = 0.9264\n",
            "Starting epoch 12 / 20\n",
            "t = 100, loss = 1.0171\n",
            "t = 200, loss = 0.8202\n",
            "t = 300, loss = 0.4859\n",
            "t = 400, loss = 0.7648\n",
            "t = 500, loss = 0.8206\n",
            "Starting epoch 13 / 20\n",
            "t = 100, loss = 1.1215\n",
            "t = 200, loss = 0.7438\n",
            "t = 300, loss = 0.9392\n",
            "t = 400, loss = 0.9448\n",
            "t = 500, loss = 1.1359\n",
            "Starting epoch 14 / 20\n",
            "t = 100, loss = 1.0277\n",
            "t = 200, loss = 1.0601\n",
            "t = 300, loss = 0.8262\n",
            "t = 400, loss = 1.2030\n",
            "t = 500, loss = 0.7241\n",
            "Starting epoch 15 / 20\n",
            "t = 100, loss = 1.0066\n",
            "t = 200, loss = 1.1150\n",
            "t = 300, loss = 0.8289\n",
            "t = 400, loss = 0.5410\n",
            "t = 500, loss = 1.1808\n",
            "Starting epoch 16 / 20\n",
            "t = 100, loss = 1.2199\n",
            "t = 200, loss = 0.7061\n",
            "t = 300, loss = 0.8043\n",
            "t = 400, loss = 1.1427\n",
            "t = 500, loss = 1.0812\n",
            "Starting epoch 17 / 20\n",
            "t = 100, loss = 1.2342\n",
            "t = 200, loss = 1.0832\n",
            "t = 300, loss = 0.8423\n",
            "t = 400, loss = 1.0934\n",
            "t = 500, loss = 0.8353\n",
            "Starting epoch 18 / 20\n",
            "t = 100, loss = 1.2346\n",
            "t = 200, loss = 0.9240\n",
            "t = 300, loss = 1.0568\n",
            "t = 400, loss = 0.8149\n",
            "t = 500, loss = 0.9469\n",
            "Starting epoch 19 / 20\n",
            "t = 100, loss = 1.1205\n",
            "t = 200, loss = 0.9209\n",
            "t = 300, loss = 0.8942\n",
            "t = 400, loss = 0.8144\n",
            "t = 500, loss = 0.9322\n",
            "Starting epoch 20 / 20\n",
            "t = 100, loss = 1.1142\n",
            "t = 200, loss = 0.7083\n",
            "t = 300, loss = 0.4364\n",
            "t = 400, loss = 0.6393\n",
            "t = 500, loss = 0.6287\n",
            "time used: 10145.561828136444\n",
            "Checking accuracy on validation set\n"
          ],
          "name": "stdout"
        },
        {
          "output_type": "stream",
          "text": [
            "/usr/local/lib/python3.6/dist-packages/ipykernel_launcher.py:75: UserWarning: volatile was removed and now has no effect. Use `with torch.no_grad():` instead.\n"
          ],
          "name": "stderr"
        },
        {
          "output_type": "stream",
          "text": [
            "Got 5346 / 5600 correct (95.46)\n"
          ],
          "name": "stdout"
        }
      ]
    },
    {
      "cell_type": "markdown",
      "metadata": {
        "id": "QN_5su1dJx93",
        "colab_type": "text"
      },
      "source": [
        "# 93.9%\n"
      ]
    },
    {
      "cell_type": "code",
      "metadata": {
        "id": "KsyJaE1MKWTg",
        "colab_type": "code",
        "outputId": "a44b1713-b2f6-4734-f777-17f98972d593",
        "colab": {
          "base_uri": "https://localhost:8080/",
          "height": 1000
        }
      },
      "source": [
        "model = nn.Sequential(\n",
        "    nn.Conv2d(3, 8, kernel_size=24, stride=2),\n",
        "    nn.ReLU(inplace=True),\n",
        "    nn.BatchNorm2d(8),\n",
        "    nn.Conv2d(8, 16, kernel_size=24, stride=2),\n",
        "    nn.ReLU(inplace=True),\n",
        "    nn.BatchNorm2d(16),\n",
        "    nn.MaxPool2d(2,stride=2),\n",
        "    nn.Flatten(),\n",
        "    nn.Linear(5776, 1024),\n",
        "    nn.ReLU(inplace=True),\n",
        "    nn.Linear(1024, 10)\n",
        ").type(gpu_dtype)\n",
        "\n",
        "t = time.time()\n",
        "loss_fn = nn.CrossEntropyLoss().type(gpu_dtype)\n",
        "optimizer = optim.Adadelta(model.parameters(), lr=1e-1)\n",
        "train(model, loss_fn, optimizer, num_epochs=20)\n",
        "print('time used:', time.time() - t)"
      ],
      "execution_count": 0,
      "outputs": [
        {
          "output_type": "stream",
          "text": [
            "Starting epoch 1 / 20\n",
            "t = 100, loss = 2.2961\n",
            "t = 200, loss = 2.2377\n",
            "t = 300, loss = 2.3394\n",
            "t = 400, loss = 1.9446\n",
            "t = 500, loss = 1.8395\n",
            "Starting epoch 2 / 20\n",
            "t = 100, loss = 2.1924\n",
            "t = 200, loss = 1.8866\n",
            "t = 300, loss = 1.7647\n",
            "t = 400, loss = 1.7061\n",
            "t = 500, loss = 1.6418\n",
            "Starting epoch 3 / 20\n",
            "t = 100, loss = 1.7405\n",
            "t = 200, loss = 1.5210\n",
            "t = 300, loss = 1.5896\n",
            "t = 400, loss = 1.5442\n",
            "t = 500, loss = 1.4166\n",
            "Starting epoch 4 / 20\n",
            "t = 100, loss = 1.8419\n",
            "t = 200, loss = 1.6274\n",
            "t = 300, loss = 1.6771\n",
            "t = 400, loss = 1.1897\n",
            "t = 500, loss = 1.4759\n",
            "Starting epoch 5 / 20\n",
            "t = 100, loss = 1.6885\n",
            "t = 200, loss = 1.3864\n",
            "t = 300, loss = 1.2554\n",
            "t = 400, loss = 1.7309\n",
            "t = 500, loss = 1.8155\n",
            "Starting epoch 6 / 20\n",
            "t = 100, loss = 1.4657\n",
            "t = 200, loss = 1.1630\n",
            "t = 300, loss = 1.1936\n",
            "t = 400, loss = 1.2205\n",
            "t = 500, loss = 1.4717\n",
            "Starting epoch 7 / 20\n",
            "t = 100, loss = 1.2723\n",
            "t = 200, loss = 1.2477\n",
            "t = 300, loss = 1.2726\n",
            "t = 400, loss = 1.0235\n",
            "t = 500, loss = 1.5239\n",
            "Starting epoch 8 / 20\n",
            "t = 100, loss = 1.6964\n",
            "t = 200, loss = 1.0565\n",
            "t = 300, loss = 1.5319\n",
            "t = 400, loss = 1.2924\n",
            "t = 500, loss = 0.8272\n",
            "Starting epoch 9 / 20\n",
            "t = 100, loss = 1.2249\n",
            "t = 200, loss = 1.1710\n",
            "t = 300, loss = 0.9885\n",
            "t = 400, loss = 1.0225\n",
            "t = 500, loss = 1.0144\n",
            "Starting epoch 10 / 20\n",
            "t = 100, loss = 1.2249\n",
            "t = 200, loss = 1.2182\n",
            "t = 300, loss = 1.1509\n",
            "t = 400, loss = 1.0536\n",
            "t = 500, loss = 1.1136\n",
            "Starting epoch 11 / 20\n",
            "t = 100, loss = 1.3748\n",
            "t = 200, loss = 1.5695\n",
            "t = 300, loss = 1.3335\n",
            "t = 400, loss = 1.0905\n",
            "t = 500, loss = 1.1748\n",
            "Starting epoch 12 / 20\n",
            "t = 100, loss = 1.0444\n",
            "t = 200, loss = 1.3680\n",
            "t = 300, loss = 0.9367\n",
            "t = 400, loss = 1.3153\n",
            "t = 500, loss = 0.9864\n",
            "Starting epoch 13 / 20\n",
            "t = 100, loss = 0.8518\n",
            "t = 200, loss = 1.2194\n",
            "t = 300, loss = 1.0138\n",
            "t = 400, loss = 0.8308\n",
            "t = 500, loss = 1.4367\n",
            "Starting epoch 14 / 20\n",
            "t = 100, loss = 1.1912\n",
            "t = 200, loss = 1.5381\n",
            "t = 300, loss = 0.9035\n",
            "t = 400, loss = 0.7483\n",
            "t = 500, loss = 1.0238\n",
            "Starting epoch 15 / 20\n",
            "t = 100, loss = 0.7002\n",
            "t = 200, loss = 1.1657\n",
            "t = 300, loss = 1.1054\n",
            "t = 400, loss = 0.9256\n",
            "t = 500, loss = 1.6174\n",
            "Starting epoch 16 / 20\n",
            "t = 100, loss = 1.2325\n",
            "t = 200, loss = 0.9377\n",
            "t = 300, loss = 0.7885\n",
            "t = 400, loss = 0.9021\n",
            "t = 500, loss = 0.9093\n",
            "Starting epoch 17 / 20\n",
            "t = 100, loss = 0.9699\n",
            "t = 200, loss = 1.0321\n",
            "t = 300, loss = 0.7627\n",
            "t = 400, loss = 0.8676\n",
            "t = 500, loss = 1.1252\n",
            "Starting epoch 18 / 20\n",
            "t = 100, loss = 1.0150\n",
            "t = 200, loss = 0.6226\n",
            "t = 300, loss = 1.1441\n",
            "t = 400, loss = 0.9847\n",
            "t = 500, loss = 0.9297\n",
            "Starting epoch 19 / 20\n",
            "t = 100, loss = 1.4584\n",
            "t = 200, loss = 0.9498\n",
            "t = 300, loss = 1.1108\n",
            "t = 400, loss = 0.9665\n",
            "t = 500, loss = 0.8185\n",
            "Starting epoch 20 / 20\n",
            "t = 100, loss = 1.0128\n",
            "t = 200, loss = 1.0581\n",
            "t = 300, loss = 0.6761\n",
            "t = 400, loss = 0.7875\n",
            "t = 500, loss = 0.9489\n",
            "time used: 10786.54691028595\n"
          ],
          "name": "stdout"
        }
      ]
    },
    {
      "cell_type": "code",
      "metadata": {
        "id": "d8-VSSb2KWTj",
        "colab_type": "code",
        "outputId": "ca17fa93-3d76-4e6e-807f-7f1ad4ea691e",
        "colab": {
          "base_uri": "https://localhost:8080/",
          "height": 88
        }
      },
      "source": [
        "check_accuracy(model)"
      ],
      "execution_count": 0,
      "outputs": [
        {
          "output_type": "stream",
          "text": [
            "Checking accuracy on validation set\n"
          ],
          "name": "stdout"
        },
        {
          "output_type": "stream",
          "text": [
            "/usr/local/lib/python3.6/dist-packages/ipykernel_launcher.py:28: UserWarning: volatile was removed and now has no effect. Use `with torch.no_grad():` instead.\n"
          ],
          "name": "stderr"
        },
        {
          "output_type": "stream",
          "text": [
            "Got 5256 / 5600 correct (93.86)\n"
          ],
          "name": "stdout"
        }
      ]
    },
    {
      "cell_type": "code",
      "metadata": {
        "id": "RtWOWdgJ1-A6",
        "colab_type": "code",
        "colab": {}
      },
      "source": [
        "device = torch.device(\"cuda:0\")\n",
        "class_names = train_dataset.classes\n",
        "\n",
        "def visualize_model(model, num_images=6):\n",
        "    was_training = model.training\n",
        "    model.eval()\n",
        "    images_so_far = 0\n",
        "    fig = plt.figure()\n",
        "\n",
        "    with torch.no_grad():\n",
        "        for i, (inputs, labels) in enumerate(val_loader):\n",
        "            inputs = inputs.to(device)\n",
        "            labels = labels.to(device)\n",
        "\n",
        "            outputs = model(inputs)\n",
        "            _, preds = torch.max(outputs, 1)\n",
        "\n",
        "            for j in range(inputs.size()[0]):\n",
        "                images_so_far += 1\n",
        "                ax = plt.subplot(num_images//2, 2, images_so_far)\n",
        "                ax.axis('off')\n",
        "                ax.set_title('predicted: {}'.format(class_dict[class_names[preds[j]]]))\n",
        "                imshow(inputs.cpu().data[j])\n",
        "\n",
        "                if images_so_far == num_images:\n",
        "                    model.train(mode=was_training)\n",
        "                    return\n",
        "        model.train(mode=was_training)"
      ],
      "execution_count": 0,
      "outputs": []
    },
    {
      "cell_type": "code",
      "metadata": {
        "id": "dKbPDH2SWbuh",
        "colab_type": "code",
        "outputId": "05100254-5fe0-46be-c329-79b7e73ab4eb",
        "colab": {
          "base_uri": "https://localhost:8080/",
          "height": 581
        }
      },
      "source": [
        "visualize_model(model,6)"
      ],
      "execution_count": 0,
      "outputs": [
        {
          "output_type": "display_data",
          "data": {
            "image/png": "[encoded data removed]",
            "text/plain": [
              "<Figure size 432x288 with 1 Axes>"
            ]
          },
          "metadata": {
            "tags": [],
            "needs_background": "light"
          }
        },
        {
          "output_type": "display_data",
          "data": {
            "image/png": "[encoded data removed]",
            "text/plain": [
              "<Figure size 432x288 with 1 Axes>"
            ]
          },
          "metadata": {
            "tags": [],
            "needs_background": "light"
          }
        },
        {
          "output_type": "display_data",
          "data": {
            "image/png": "[encoded data removed]",
            "text/plain": [
              "<Figure size 432x288 with 1 Axes>"
            ]
          },
          "metadata": {
            "tags": [],
            "needs_background": "light"
          }
        },
        {
          "output_type": "display_data",
          "data": {
            "image/png": "[encoded data removed]",
            "text/plain": [
              "<Figure size 432x288 with 1 Axes>"
            ]
          },
          "metadata": {
            "tags": [],
            "needs_background": "light"
          }
        },
        {
          "output_type": "display_data",
          "data": {
            "image/png": "[encoded data removed]",
            "text/plain": [
              "<Figure size 432x288 with 1 Axes>"
            ]
          },
          "metadata": {
            "tags": [],
            "needs_background": "light"
          }
        },
        {
          "output_type": "display_data",
          "data": {
            "image/png": "[encoded data removed]",
            "text/plain": [
              "<Figure size 432x288 with 1 Axes>"
            ]
          },
          "metadata": {
            "tags": [],
            "needs_background": "light"
          }
        }
      ]
    },
    {
      "cell_type": "code",
      "metadata": {
        "id": "fugwcXmoWebF",
        "colab_type": "code",
        "colab": {}
      },
      "source": [
        ""
      ],
      "execution_count": 0,
      "outputs": []
    }
  ]
}